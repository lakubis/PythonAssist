{
 "cells": [
  {
   "cell_type": "code",
   "execution_count": 3,
   "metadata": {},
   "outputs": [],
   "source": [
    "from GateLibrary2 import pauli_gates\n",
    "import GateLibrary2 as gl\n",
    "import sympy as sp\n",
    "import matplotlib.pyplot as plt\n",
    "from sympy.physics.quantum import Dagger, TensorProduct\n",
    "from sympy import Matrix, N\n",
    "import numpy as np"
   ]
  },
  {
   "cell_type": "code",
   "execution_count": 4,
   "metadata": {},
   "outputs": [],
   "source": [
    "a = 1\n",
    "b = 0\n",
    "c = 0\n",
    "rho_t = (1/2)*(pauli_gates[0] + a*pauli_gates[1] + b*pauli_gates[2] + c*pauli_gates[3])\n",
    "p_strength = [1/4,1/4,1/4,1/4]\n",
    "q_strength = [1/4,1/4,1/4,1/4]"
   ]
  },
  {
   "cell_type": "code",
   "execution_count": 5,
   "metadata": {},
   "outputs": [],
   "source": [
    "def Holevo_cap(rho_t,p_strength,q_strength):\n",
    "    ket_plus = Matrix([[1/sp.sqrt(2)],[1/sp.sqrt(2)]])\n",
    "    ket_minus = Matrix([[1/sp.sqrt(2)],[-1/sp.sqrt(2)]])\n",
    "\n",
    "    output_state = Matrix([[0 for i in range(4)] for j in range(4)])\n",
    "    for i in range(4):\n",
    "        for j in range(4):\n",
    "            commutator = pauli_gates[i]*pauli_gates[j]-pauli_gates[j]*pauli_gates[i]\n",
    "            anticommutator = pauli_gates[i]*pauli_gates[j]+pauli_gates[j]*pauli_gates[i]\n",
    "            if (commutator == Matrix([[0 for i in range(2)] for j in range(2)])):\n",
    "                #Eksperimen gimana kalau kita pake \\sqrt{p} dan \\sqrt{q}\n",
    "                #output_state += (p_strength[i]**0.5)*(q_strength[j]**0.5)*TensorProduct(ket_plus*Dagger(ket_plus),anticommutator*rho_t*Dagger(anticommutator))\n",
    "                #Eksperimen gimana kalau kita pake p^2 dan q^2\n",
    "                output_state += (p_strength[i]**2)*(q_strength[j]**2)*TensorProduct(ket_plus*Dagger(ket_plus),anticommutator*rho_t*Dagger(anticommutator))\n",
    "                #Ini yang sesuai dengan Goswami\n",
    "                #output_state += p_strength[i]*q_strength[j]*TensorProduct(ket_plus*Dagger(ket_plus),anticommutator*rho_t*Dagger(anticommutator))\n",
    "            elif (anticommutator == Matrix([[0 for i in range(2)] for j in range(2)])):\n",
    "                #Eksperimen gimana kalau kita pake \\sqrt{p} dan \\sqrt{q}\n",
    "                #output_state += (p_strength[i]**0.5)*(q_strength[j]**0.5)*TensorProduct(ket_plus*Dagger(ket_plus),anticommutator*rho_t*Dagger(anticommutator))\n",
    "                #Eksperimen gimana kalau kita pake p^2 dan q^2\n",
    "                output_state += (p_strength[i]**2)*(q_strength[j]**2)*TensorProduct(ket_minus*Dagger(ket_minus),commutator*rho_t*Dagger(commutator))\n",
    "                #Ini yang sesuai dengan Goswami\n",
    "                #output_state += p_strength[i]*q_strength[j]*TensorProduct(ket_minus*Dagger(ket_minus),commutator*rho_t*Dagger(commutator))\n",
    "            else:\n",
    "                raise Exception('This is not supposed to happen')\n",
    "    \n",
    "\n",
    "    rho_c_tilde = Matrix([[output_state[0,0]+output_state[1,1],output_state[0,2]+output_state[1,3]],[output_state[2,0]+output_state[3,1],output_state[2,2]+output_state[3,3]]])\n",
    "\n",
    "    #Cari eigen value dari output state dan \\tilde{\\rho}_c\n",
    "    Eigen_value = output_state.eigenvals()\n",
    "    EigValC = rho_c_tilde.eigenvals()\n",
    "\n",
    "    keys = gl.get_keys(Eigen_value)\n",
    "    keys_c = gl.get_keys(EigValC)\n",
    "\n",
    "    H_output = gl.vonNeumann(keys)\n",
    "    H_c = gl.vonNeumann(keys_c)\n",
    "\n",
    "    Holevo_cap = 1 + H_c - H_output\n",
    "\n",
    "    return Holevo_cap\n",
    "\n"
   ]
  },
  {
   "cell_type": "code",
   "execution_count": 6,
   "metadata": {},
   "outputs": [
    {
     "data": {
      "text/latex": [
       "$\\displaystyle 0.835168723752165 - 1.8703951468908 \\cdot 10^{-34} i$"
      ],
      "text/plain": [
       "0.835168723752165 - 1.8703951468908e-34*I"
      ]
     },
     "execution_count": 6,
     "metadata": {},
     "output_type": "execute_result"
    }
   ],
   "source": [
    "N(Holevo_cap(rho_t,p_strength,q_strength))"
   ]
  },
  {
   "cell_type": "code",
   "execution_count": 7,
   "metadata": {},
   "outputs": [
    {
     "name": "stderr",
     "output_type": "stream",
     "text": [
      "c:\\Users\\cahya\\anaconda3\\envs\\SymbolicComputation\\lib\\site-packages\\matplotlib\\cbook\\__init__.py:1298: ComplexWarning: Casting complex values to real discards the imaginary part\n",
      "  return np.asarray(x, float)\n"
     ]
    },
    {
     "data": {
      "text/plain": [
       "[<matplotlib.lines.Line2D at 0x1fa4fc5c2b0>]"
      ]
     },
     "execution_count": 7,
     "metadata": {},
     "output_type": "execute_result"
    },
    {
     "data": {
      "image/png": "[encoded data removed]",
      "text/plain": [
       "<Figure size 432x288 with 1 Axes>"
      ]
     },
     "metadata": {
      "needs_background": "light"
     },
     "output_type": "display_data"
    }
   ],
   "source": [
    "q_strength = np.arange(0.0,1.01,0.01)\n",
    "Holevo_capacities = np.zeros(len(q_strength),dtype = complex)\n",
    "rho_t\n",
    "\n",
    "for i in range(len(q_strength)):\n",
    "    q=q_strength[i]\n",
    "    dep_q_strength = [1-(3*q/4),q/4,q/4,q/4]\n",
    "    Holevo_capacities[i] = Holevo_cap(rho_t,dep_q_strength,dep_q_strength)\n",
    "\n",
    "plt.plot(q_strength,np.log2(Holevo_capacities))\n"
   ]
  },
  {
   "cell_type": "code",
   "execution_count": 8,
   "metadata": {},
   "outputs": [
    {
     "name": "stdout",
     "output_type": "stream",
     "text": [
      "[1.        -6.18824955e-32j 0.99885915+0.00000000e+00j\n",
      " 0.99604915+0.00000000e+00j 0.99195581+0.00000000e+00j\n",
      " 0.98680684+0.00000000e+00j 0.98077209+0.00000000e+00j\n",
      " 0.97398896+0.00000000e+00j 0.96657351+0.00000000e+00j\n",
      " 0.95862636+0.00000000e+00j 0.95023625+0.00000000e+00j\n",
      " 0.94148246+0.00000000e+00j 0.93243635+0.00000000e+00j\n",
      " 0.92316265+0.00000000e+00j 0.9137203 +0.00000000e+00j\n",
      " 0.90416318+0.00000000e+00j 0.89454067+0.00000000e+00j\n",
      " 0.88489807+0.00000000e+00j 0.87527702+0.00000000e+00j\n",
      " 0.8657158 +0.00000000e+00j 0.85624958+0.00000000e+00j\n",
      " 0.84691064+0.00000000e+00j 0.83772864+0.00000000e+00j\n",
      " 0.8287307 +0.00000000e+00j 0.81994162+0.00000000e+00j\n",
      " 0.81138402+0.00000000e+00j 0.8030784 +0.00000000e+00j\n",
      " 0.79504332+0.00000000e+00j 0.78729549+0.00000000e+00j\n",
      " 0.77984981+0.00000000e+00j 0.77271953+0.00000000e+00j\n",
      " 0.76591629+0.00000000e+00j 0.75945017+0.00000000e+00j\n",
      " 0.75332982+0.00000000e+00j 0.74756247+0.00000000e+00j\n",
      " 0.74215402+0.00000000e+00j 0.73710907+0.00000000e+00j\n",
      " 0.73243101+0.00000000e+00j 0.72812204+0.00000000e+00j\n",
      " 0.72418323+0.00000000e+00j 0.72061457+0.00000000e+00j\n",
      " 0.71741502+0.00000000e+00j 0.71458252+0.00000000e+00j\n",
      " 0.7121141 +0.00000000e+00j 0.71000583+0.00000000e+00j\n",
      " 0.70825294+0.00000000e+00j 0.70684981+0.00000000e+00j\n",
      " 0.70579005+0.00000000e+00j 0.70506647+0.00000000e+00j\n",
      " 0.7046712 +0.00000000e+00j 0.70459566+0.00000000e+00j\n",
      " 0.70483062+0.00000000e+00j 0.70536626+0.00000000e+00j\n",
      " 0.70619215+0.00000000e+00j 0.70729734+0.00000000e+00j\n",
      " 0.70867036+0.00000000e+00j 0.71029928+0.00000000e+00j\n",
      " 0.71217171+0.00000000e+00j 0.71427487+0.00000000e+00j\n",
      " 0.71659563+0.00000000e+00j 0.7191205 +0.00000000e+00j\n",
      " 0.72183572+0.00000000e+00j 0.72472726+0.00000000e+00j\n",
      " 0.72778086+0.00000000e+00j 0.73098209+0.00000000e+00j\n",
      " 0.73431637+0.00000000e+00j 0.73776901+0.00000000e+00j\n",
      " 0.74132526+0.00000000e+00j 0.74497032+0.00000000e+00j\n",
      " 0.74868942+0.00000000e+00j 0.75246782+0.00000000e+00j\n",
      " 0.75629089+0.00000000e+00j 0.76014413+0.00000000e+00j\n",
      " 0.7640132 +0.00000000e+00j 0.767884  +0.00000000e+00j\n",
      " 0.77174268+0.00000000e+00j 0.7755757 +0.00000000e+00j\n",
      " 0.77936987+0.00000000e+00j 0.78311241+0.00000000e+00j\n",
      " 0.78679097+0.00000000e+00j 0.79039369+0.00000000e+00j\n",
      " 0.79390928+0.00000000e+00j 0.797327  +0.00000000e+00j\n",
      " 0.80063676+0.00000000e+00j 0.80382916+0.00000000e+00j\n",
      " 0.80689551+0.00000000e+00j 0.80982791+0.00000000e+00j\n",
      " 0.81261928+0.00000000e+00j 0.81526339+0.00000000e+00j\n",
      " 0.81775492+0.00000000e+00j 0.82008949+0.00000000e+00j\n",
      " 0.82226369+0.00000000e+00j 0.82427512+0.00000000e+00j\n",
      " 0.82612238+0.00000000e+00j 0.82780514+0.00000000e+00j\n",
      " 0.82932411+0.00000000e+00j 0.83068104+0.00000000e+00j\n",
      " 0.83187875+0.00000000e+00j 0.83292107+0.00000000e+00j\n",
      " 0.83381282+0.00000000e+00j 0.83455981+0.00000000e+00j\n",
      " 0.83516872-1.87039515e-34j]\n"
     ]
    }
   ],
   "source": [
    "print(Holevo_capacities)"
   ]
  },
  {
   "cell_type": "code",
   "execution_count": 9,
   "metadata": {},
   "outputs": [
    {
     "data": {
      "text/plain": [
       "array([ 2.76235939e-63-8.92775694e-32j, -1.64684355e-03+0.00000000e+00j,\n",
       "       -5.71116059e-03+0.00000000e+00j, -1.16522374e-02+0.00000000e+00j,\n",
       "       -1.91603726e-02+0.00000000e+00j, -2.80101758e-02+0.00000000e+00j,\n",
       "       -3.80226811e-02+0.00000000e+00j, -4.90486415e-02+0.00000000e+00j,\n",
       "       -6.09594911e-02+0.00000000e+00j, -7.36418443e-02+0.00000000e+00j,\n",
       "       -8.69938823e-02+0.00000000e+00j, -1.00922848e-01+0.00000000e+00j,\n",
       "       -1.15343243e-01+0.00000000e+00j, -1.30175490e-01+0.00000000e+00j,\n",
       "       -1.45344926e-01+0.00000000e+00j, -1.60781027e-01+0.00000000e+00j,\n",
       "       -1.76416814e-01+0.00000000e+00j, -1.92188393e-01+0.00000000e+00j,\n",
       "       -2.08034599e-01+0.00000000e+00j, -2.23896727e-01+0.00000000e+00j,\n",
       "       -2.39718337e-01+0.00000000e+00j, -2.55445104e-01+0.00000000e+00j,\n",
       "       -2.71024732e-01+0.00000000e+00j, -2.86406893e-01+0.00000000e+00j,\n",
       "       -3.01543209e-01+0.00000000e+00j, -3.16387261e-01+0.00000000e+00j,\n",
       "       -3.30894617e-01+0.00000000e+00j, -3.45022888e-01+0.00000000e+00j,\n",
       "       -3.58731791e-01+0.00000000e+00j, -3.71983229e-01+0.00000000e+00j,\n",
       "       -3.84741379e-01+0.00000000e+00j, -3.96972786e-01+0.00000000e+00j,\n",
       "       -4.08646454e-01+0.00000000e+00j, -4.19733947e-01+0.00000000e+00j,\n",
       "       -4.30209476e-01+0.00000000e+00j, -4.40049984e-01+0.00000000e+00j,\n",
       "       -4.49235223e-01+0.00000000e+00j, -4.57747820e-01+0.00000000e+00j,\n",
       "       -4.65573331e-01+0.00000000e+00j, -4.72700273e-01+0.00000000e+00j,\n",
       "       -4.79120153e-01+0.00000000e+00j, -4.84827466e-01+0.00000000e+00j,\n",
       "       -4.89819685e-01+0.00000000e+00j, -4.94097231e-01+0.00000000e+00j,\n",
       "       -4.97663417e-01+0.00000000e+00j, -5.00524383e-01+0.00000000e+00j,\n",
       "       -5.02689011e-01+0.00000000e+00j, -5.04168818e-01+0.00000000e+00j,\n",
       "       -5.04977843e-01+0.00000000e+00j, -5.05132510e-01+0.00000000e+00j,\n",
       "       -5.04651486e-01+0.00000000e+00j, -5.03555525e-01+0.00000000e+00j,\n",
       "       -5.01867305e-01+0.00000000e+00j, -4.99611253e-01+0.00000000e+00j,\n",
       "       -4.96813376e-01+0.00000000e+00j, -4.93501076e-01+0.00000000e+00j,\n",
       "       -4.89702973e-01+0.00000000e+00j, -4.85448724e-01+0.00000000e+00j,\n",
       "       -4.80768847e-01+0.00000000e+00j, -4.75694549e-01+0.00000000e+00j,\n",
       "       -4.70257554e-01+0.00000000e+00j, -4.64489941e-01+0.00000000e+00j,\n",
       "       -4.58423993e-01+0.00000000e+00j, -4.52092042e-01+0.00000000e+00j,\n",
       "       -4.45526336e-01+0.00000000e+00j, -4.38758902e-01+0.00000000e+00j,\n",
       "       -4.31821428e-01+0.00000000e+00j, -4.24745148e-01+0.00000000e+00j,\n",
       "       -4.17560737e-01+0.00000000e+00j, -4.10298214e-01+0.00000000e+00j,\n",
       "       -4.02986853e-01+0.00000000e+00j, -3.95655108e-01+0.00000000e+00j,\n",
       "       -3.88330529e-01+0.00000000e+00j, -3.81039706e-01+0.00000000e+00j,\n",
       "       -3.73808201e-01+0.00000000e+00j, -3.66660494e-01+0.00000000e+00j,\n",
       "       -3.59619934e-01+0.00000000e+00j, -3.52708688e-01+0.00000000e+00j,\n",
       "       -3.45947703e-01+0.00000000e+00j, -3.39356659e-01+0.00000000e+00j,\n",
       "       -3.32953935e-01+0.00000000e+00j, -3.26756572e-01+0.00000000e+00j,\n",
       "       -3.20780236e-01+0.00000000e+00j, -3.15039183e-01+0.00000000e+00j,\n",
       "       -3.09546231e-01+0.00000000e+00j, -3.04312722e-01+0.00000000e+00j,\n",
       "       -2.99348496e-01+0.00000000e+00j, -2.94661859e-01+0.00000000e+00j,\n",
       "       -2.90259555e-01+0.00000000e+00j, -2.86146741e-01+0.00000000e+00j,\n",
       "       -2.82326966e-01+0.00000000e+00j, -2.78802152e-01+0.00000000e+00j,\n",
       "       -2.75572581e-01+0.00000000e+00j, -2.72636888e-01+0.00000000e+00j,\n",
       "       -2.69992064e-01+0.00000000e+00j, -2.67633462e-01+0.00000000e+00j,\n",
       "       -2.65554824e-01+0.00000000e+00j, -2.63748307e-01+0.00000000e+00j,\n",
       "       -2.62204534e-01+0.00000000e+00j, -2.60912652e-01+0.00000000e+00j,\n",
       "       -2.59860409e-01-3.23097564e-34j])"
      ]
     },
     "execution_count": 9,
     "metadata": {},
     "output_type": "execute_result"
    }
   ],
   "source": [
    "log_Holevo = np.log2(Holevo_capacities)\n",
    "log_Holevo"
   ]
  },
  {
   "cell_type": "code",
   "execution_count": 10,
   "metadata": {},
   "outputs": [
    {
     "name": "stderr",
     "output_type": "stream",
     "text": [
      "c:\\Users\\cahya\\anaconda3\\envs\\SymbolicComputation\\lib\\site-packages\\matplotlib\\cbook\\__init__.py:1298: ComplexWarning: Casting complex values to real discards the imaginary part\n",
      "  return np.asarray(x, float)\n"
     ]
    },
    {
     "data": {
      "text/plain": [
       "[<matplotlib.lines.Line2D at 0x1fa4da0fc10>]"
      ]
     },
     "execution_count": 10,
     "metadata": {},
     "output_type": "execute_result"
    },
    {
     "data": {
      "image/png": "[encoded data removed]",
      "text/plain": [
       "<Figure size 432x288 with 1 Axes>"
      ]
     },
     "metadata": {
      "needs_background": "light"
     },
     "output_type": "display_data"
    }
   ],
   "source": [
    "plt.plot(q_strength,log_Holevo)"
   ]
  },
  {
   "cell_type": "code",
   "execution_count": null,
   "metadata": {},
   "outputs": [],
   "source": []
  }
 ],
 "metadata": {
  "kernelspec": {
   "display_name": "Python 3.8.12 ('SymbolicComputation')",
   "language": "python",
   "name": "python3"
  },
  "language_info": {
   "codemirror_mode": {
    "name": "ipython",
    "version": 3
   },
   "file_extension": ".py",
   "mimetype": "text/x-python",
   "name": "python",
   "nbconvert_exporter": "python",
   "pygments_lexer": "ipython3",
   "version": "3.8.12"
  },
  "orig_nbformat": 4,
  "vscode": {
   "interpreter": {
    "hash": "16bf6e0454b5a599c4825afe74915a275ff921f6a5edca4ba1b77555c1545010"
   }
  }
 },
 "nbformat": 4,
 "nbformat_minor": 2
}
