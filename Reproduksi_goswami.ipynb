{
 "cells": [
  {
   "cell_type": "code",
   "execution_count": 17,
   "metadata": {},
   "outputs": [],
   "source": [
    "from GateLibrary2 import pauli_gates\n",
    "import GateLibrary2 as gl\n",
    "import sympy as sp\n",
    "import matplotlib.pyplot as plt\n",
    "from sympy.physics.quantum import Dagger, TensorProduct\n",
    "from sympy import Matrix, N\n",
    "import numpy as np"
   ]
  },
  {
   "cell_type": "code",
   "execution_count": 18,
   "metadata": {},
   "outputs": [],
   "source": [
    "a = 1\n",
    "b = 0\n",
    "c = 0\n",
    "rho_t = (1/2)*(pauli_gates[0] + a*pauli_gates[1] + b*pauli_gates[2] + c*pauli_gates[3])\n",
    "p_strength = [1/4,1/4,1/4,1/4]\n",
    "q_strength = [1/4,1/4,1/4,1/4]"
   ]
  },
  {
   "cell_type": "code",
   "execution_count": 19,
   "metadata": {},
   "outputs": [],
   "source": [
    "def Holevo_cap(rho_t,p_strength,q_strength):\n",
    "    ket_plus = Matrix([[1/sp.sqrt(2)],[1/sp.sqrt(2)]])\n",
    "    ket_minus = Matrix([[1/sp.sqrt(2)],[-1/sp.sqrt(2)]])\n",
    "\n",
    "    output_state = Matrix([[0 for i in range(4)] for j in range(4)])\n",
    "    for i in range(4):\n",
    "        for j in range(4):\n",
    "            commutator = pauli_gates[i]*pauli_gates[j]-pauli_gates[j]*pauli_gates[i]\n",
    "            anticommutator = pauli_gates[i]*pauli_gates[j]+pauli_gates[j]*pauli_gates[i]\n",
    "            if (commutator == Matrix([[0 for i in range(2)] for j in range(2)])):\n",
    "                #Eksperimen gimana kalau kita pake \\sqrt{p} dan \\sqrt{q}\n",
    "                output_state += (sp.sqrt(p_strength[i]**0.5))*(sp.sqrt(q_strength[j]**0.5))*TensorProduct(ket_plus*Dagger(ket_plus),anticommutator*rho_t*Dagger(anticommutator))\n",
    "                #Eksperimen gimana kalau kita pake p^2 dan q^2\n",
    "                #output_state += (p_strength[i]**2)*(q_strength[j]**2)*TensorProduct(ket_plus*Dagger(ket_plus),anticommutator*rho_t*Dagger(anticommutator))\n",
    "                #Ini yang sesuai dengan Goswami\n",
    "                #output_state += p_strength[i]*q_strength[j]*TensorProduct(ket_plus*Dagger(ket_plus),anticommutator*rho_t*Dagger(anticommutator))\n",
    "            elif (anticommutator == Matrix([[0 for i in range(2)] for j in range(2)])):\n",
    "                #Eksperimen gimana kalau kita pake \\sqrt{p} dan \\sqrt{q}\n",
    "                output_state += (sp.sqrt(p_strength[i]))*(sp.sqrt(q_strength[j]**0.5))*TensorProduct(ket_plus*Dagger(ket_plus),anticommutator*rho_t*Dagger(anticommutator))\n",
    "                #Eksperimen gimana kalau kita pake p^2 dan q^2\n",
    "                #output_state += (p_strength[i]**2)*(q_strength[j]**2)*TensorProduct(ket_minus*Dagger(ket_minus),commutator*rho_t*Dagger(commutator))\n",
    "                #Ini yang sesuai dengan Goswami\n",
    "                #output_state += p_strength[i]*q_strength[j]*TensorProduct(ket_minus*Dagger(ket_minus),commutator*rho_t*Dagger(commutator))\n",
    "            else:\n",
    "                raise Exception('This is not supposed to happen')\n",
    "    \n",
    "\n",
    "    rho_c_tilde = Matrix([[output_state[0,0]+output_state[1,1],output_state[0,2]+output_state[1,3]],[output_state[2,0]+output_state[3,1],output_state[2,2]+output_state[3,3]]])\n",
    "\n",
    "    #Cari eigen value dari output state dan \\tilde{\\rho}_c\n",
    "    Eigen_value = output_state.eigenvals()\n",
    "    EigValC = rho_c_tilde.eigenvals()\n",
    "\n",
    "    keys = gl.get_keys(Eigen_value)\n",
    "    keys_c = gl.get_keys(EigValC)\n",
    "\n",
    "    H_output = gl.vonNeumann(keys)\n",
    "    H_c = gl.vonNeumann(keys_c)\n",
    "\n",
    "    Holevo_cap = 1 + H_c - H_output\n",
    "\n",
    "    return Holevo_cap\n",
    "\n"
   ]
  },
  {
   "cell_type": "code",
   "execution_count": 20,
   "metadata": {},
   "outputs": [
    {
     "data": {
      "text/latex": [
       "$\\displaystyle -12.4602333401851 + 5.0 \\cdot 10^{-82} i$"
      ],
      "text/plain": [
       "-12.4602333401851 + 0.e-81*I"
      ]
     },
     "execution_count": 20,
     "metadata": {},
     "output_type": "execute_result"
    }
   ],
   "source": [
    "N(Holevo_cap(rho_t,p_strength,q_strength))"
   ]
  },
  {
   "cell_type": "code",
   "execution_count": 21,
   "metadata": {},
   "outputs": [
    {
     "name": "stderr",
     "output_type": "stream",
     "text": [
      "c:\\Users\\cahya\\anaconda3\\envs\\SymbolicComputation\\lib\\site-packages\\matplotlib\\cbook\\__init__.py:1298: ComplexWarning: Casting complex values to real discards the imaginary part\n",
      "  return np.asarray(x, float)\n"
     ]
    },
    {
     "data": {
      "text/plain": [
       "[<matplotlib.lines.Line2D at 0x219e288c040>]"
      ]
     },
     "execution_count": 21,
     "metadata": {},
     "output_type": "execute_result"
    },
    {
     "data": {
      "image/png": "[encoded data removed]",
      "text/plain": [
       "<Figure size 432x288 with 1 Axes>"
      ]
     },
     "metadata": {
      "needs_background": "light"
     },
     "output_type": "display_data"
    }
   ],
   "source": [
    "q_strength = np.arange(0.0,1.01,0.01)\n",
    "Holevo_capacities = np.zeros(len(q_strength),dtype = complex)\n",
    "rho_t\n",
    "\n",
    "for i in range(len(q_strength)):\n",
    "    q=q_strength[i]\n",
    "    dep_q_strength = [1-(3*q/4),q/4,q/4,q/4]\n",
    "    Holevo_capacities[i] = Holevo_cap(rho_t,dep_q_strength,dep_q_strength)\n",
    "\n",
    "plt.plot(q_strength,np.log2(Holevo_capacities))\n"
   ]
  },
  {
   "cell_type": "code",
   "execution_count": 22,
   "metadata": {},
   "outputs": [
    {
     "name": "stdout",
     "output_type": "stream",
     "text": [
      "[  1.        -6.18824955e-032j  -5.49133934-5.81482495e-064j\n",
      "  -6.41765378+1.05421979e-081j  -7.0340414 +0.00000000e+000j\n",
      "  -7.50847284-4.16775343e-064j  -7.89885203+5.27109897e-082j\n",
      "  -8.2327266 -1.83377325e-063j  -8.52557138+1.84659572e-127j\n",
      "  -8.78702994+0.00000000e+000j  -9.02355758-3.46012613e-031j\n",
      "  -9.23970835-1.38949703e-063j  -9.43882684-4.21719832e-063j\n",
      "  -9.62344887+2.63554949e-082j  -9.79554736+0.00000000e+000j\n",
      "  -9.95669048+0.00000000e+000j -10.10814728-3.42635412e-064j\n",
      " -10.25096067-9.90796170e-032j -10.38599908-6.13976900e-064j\n",
      " -10.51399407-2.52378321e-063j -10.63556815-2.46946795e-063j\n",
      " -10.75125581+0.00000000e+000j -10.86151963+1.84659572e-127j\n",
      " -10.96676282-2.01259642e-063j -11.06733911-1.77497805e-063j\n",
      " -11.16356062-9.25521672e-063j -11.25570419+0.00000000e+000j\n",
      " -11.34401656-6.51100456e-064j -11.42871858-2.51469055e-063j\n",
      " -11.51000875+5.27109897e-082j -11.58806607+0.00000000e+000j\n",
      " -11.66305256-1.80378330e-063j -11.73511523-1.84659572e-127j\n",
      " -11.80438795-3.09683714e-064j -11.87099284-1.72000522e-063j\n",
      " -11.9350416 +0.00000000e+000j -11.9966366 -5.67469353e-063j\n",
      " -12.05587188+0.00000000e+000j -12.11283391-5.83033249e-063j\n",
      " -12.16760237-6.19584260e-063j -12.22025075+0.00000000e+000j\n",
      " -12.27084696+1.05421979e-081j -12.31945377-3.82263258e-063j\n",
      " -12.36612924+2.10843959e-081j -12.41092716+5.27109897e-082j\n",
      " -12.45389735+6.58887371e-083j -12.49508597-1.87099464e-063j\n",
      " -12.53453581+1.31777474e-082j -12.57228648-1.07817212e-063j\n",
      " -12.60837472+0.00000000e+000j -12.64283449+1.05421979e-081j\n",
      " -12.67569722-1.04216130e-063j -12.70699194+1.31777474e-082j\n",
      " -12.73674541-2.15914472e-063j -12.76498224+7.38638289e-127j\n",
      " -12.79172506+3.69319145e-127j -12.81699455-3.30097466e-063j\n",
      " -12.84080955-1.25972659e-063j -12.86318716-9.15859810e-064j\n",
      " -12.88414282-3.41208445e-063j -12.90369032-8.19913458e-064j\n",
      " -12.92184191-2.19905069e-063j -12.93860831-2.09541794e-063j\n",
      " -12.95399879-3.88275511e-063j -12.96802116-7.38638289e-127j\n",
      " -12.98068183-5.87708248e-063j -12.99198584+1.05421979e-081j\n",
      " -13.00193683-6.33937897e-063j -13.01053711-6.04994385e-063j\n",
      " -13.01778764+0.00000000e+000j -13.02368801+0.00000000e+000j\n",
      " -13.02823649-3.93831071e-063j -13.03142996-3.78670546e-063j\n",
      " -13.03326394+5.27109897e-082j -13.03373256-1.54535316e-063j\n",
      " -13.0328285 -6.56031412e-064j -13.03054302-6.67384473e-064j\n",
      " -13.02686587+1.05421979e-081j -13.02178526+1.05421979e-081j\n",
      " -13.01528782-3.84854782e-063j -13.00735852-5.41315911e-064j\n",
      " -12.99798062-3.94301800e-063j -12.98713558+1.05421979e-081j\n",
      " -12.974803  +0.00000000e+000j -12.96096049+1.31777474e-082j\n",
      " -12.94558356+5.27109897e-082j -12.92864554-4.61648931e-128j\n",
      " -12.9101174 +0.00000000e+000j -12.88996764-5.35404612e-063j\n",
      " -12.86816207+5.27109897e-082j -12.84466369-1.51862556e-063j\n",
      " -12.8194324 +0.00000000e+000j -12.79242483-3.29001665e-063j\n",
      " -12.76359405-3.04139824e-063j -12.73288928-1.74614850e-064j\n",
      " -12.70025554-5.60168142e-063j -12.66563331-4.86252309e-063j\n",
      " -12.62895805+5.27109897e-082j -12.5901598 +0.00000000e+000j\n",
      " -12.54916257+0.00000000e+000j -12.50588373+1.05421979e-081j\n",
      " -12.46023334+5.27109897e-082j]\n"
     ]
    }
   ],
   "source": [
    "print(Holevo_capacities)"
   ]
  },
  {
   "cell_type": "code",
   "execution_count": 23,
   "metadata": {},
   "outputs": [
    {
     "data": {
      "text/plain": [
       "array([2.76235939e-63-8.92775694e-32j, 2.45715807e+00-4.53236014e+00j,\n",
       "       2.68204596e+00+4.53236014e+00j, 2.81435383e+00+4.53236014e+00j,\n",
       "       2.90851951e+00-4.53236014e+00j, 2.98164300e+00+4.53236014e+00j,\n",
       "       3.04137032e+00-4.53236014e+00j, 3.09179653e+00+4.53236014e+00j,\n",
       "       3.13537561e+00+4.53236014e+00j, 3.17369634e+00-4.53236014e+00j,\n",
       "       3.20784731e+00-4.53236014e+00j, 3.23860756e+00-4.53236014e+00j,\n",
       "       3.26655402e+00+4.53236014e+00j, 3.29212611e+00+4.53236014e+00j,\n",
       "       3.31566628e+00+4.53236014e+00j, 3.33744669e+00-4.53236014e+00j,\n",
       "       3.35768721e+00-4.53236014e+00j, 3.37656810e+00-4.53236014e+00j,\n",
       "       3.39423892e+00-4.53236014e+00j, 3.41082520e+00-4.53236014e+00j,\n",
       "       3.42643328e+00+4.53236014e+00j, 3.44115406e+00+4.53236014e+00j,\n",
       "       3.45506583e+00-4.53236014e+00j, 3.46823650e+00-4.53236014e+00j,\n",
       "       3.48072534e+00-4.53236014e+00j, 3.49258441e+00+4.53236014e+00j,\n",
       "       3.50385964e+00-4.53236014e+00j, 3.51459175e+00-4.53236014e+00j,\n",
       "       3.52481703e+00+4.53236014e+00j, 3.53456791e+00+4.53236014e+00j,\n",
       "       3.54387353e+00-4.53236014e+00j, 3.55276010e+00-4.53236014e+00j,\n",
       "       3.56125134e+00-4.53236014e+00j, 3.56936870e+00-4.53236014e+00j,\n",
       "       3.57713169e+00+4.53236014e+00j, 3.58455808e+00-4.53236014e+00j,\n",
       "       3.59166409e+00+4.53236014e+00j, 3.59846453e+00-4.53236014e+00j,\n",
       "       3.60497301e+00-4.53236014e+00j, 3.61120198e+00+4.53236014e+00j,\n",
       "       3.61716293e+00+4.53236014e+00j, 3.62286638e+00-4.53236014e+00j,\n",
       "       3.62832208e+00+4.53236014e+00j, 3.63353899e+00+4.53236014e+00j,\n",
       "       3.63852539e+00+4.53236014e+00j, 3.64328892e+00-4.53236014e+00j,\n",
       "       3.64783666e+00+4.53236014e+00j, 3.65217515e+00-4.53236014e+00j,\n",
       "       3.65631041e+00+4.53236014e+00j, 3.66024804e+00+4.53236014e+00j,\n",
       "       3.66399320e+00-4.53236014e+00j, 3.66755064e+00+4.53236014e+00j,\n",
       "       3.67092477e+00-4.53236014e+00j, 3.67411963e+00+4.53236014e+00j,\n",
       "       3.67713893e+00+4.53236014e+00j, 3.67998610e+00-4.53236014e+00j,\n",
       "       3.68266425e+00-4.53236014e+00j, 3.68517624e+00-4.53236014e+00j,\n",
       "       3.68752465e+00-4.53236014e+00j, 3.68971182e+00-4.53236014e+00j,\n",
       "       3.69173982e+00-4.53236014e+00j, 3.69361054e+00-4.53236014e+00j,\n",
       "       3.69532561e+00-4.53236014e+00j, 3.69688644e+00-4.53236014e+00j,\n",
       "       3.69829426e+00-4.53236014e+00j, 3.69955006e+00+4.53236014e+00j,\n",
       "       3.70065464e+00-4.53236014e+00j, 3.70160862e+00-4.53236014e+00j,\n",
       "       3.70241238e+00+4.53236014e+00j, 3.70306614e+00+4.53236014e+00j,\n",
       "       3.70356991e+00-4.53236014e+00j, 3.70392350e+00-4.53236014e+00j,\n",
       "       3.70412652e+00+4.53236014e+00j, 3.70417839e+00-4.53236014e+00j,\n",
       "       3.70407832e+00-4.53236014e+00j, 3.70382530e+00-4.53236014e+00j,\n",
       "       3.70341812e+00+4.53236014e+00j, 3.70285535e+00+4.53236014e+00j,\n",
       "       3.70213531e+00-4.53236014e+00j, 3.70125611e+00-4.53236014e+00j,\n",
       "       3.70021560e+00-4.53236014e+00j, 3.69901136e+00+4.53236014e+00j,\n",
       "       3.69764073e+00+4.53236014e+00j, 3.69610073e+00+4.53236014e+00j,\n",
       "       3.69438810e+00+4.53236014e+00j, 3.69249923e+00-4.53236014e+00j,\n",
       "       3.69043022e+00+4.53236014e+00j, 3.68817674e+00-4.53236014e+00j,\n",
       "       3.68573411e+00+4.53236014e+00j, 3.68309721e+00-4.53236014e+00j,\n",
       "       3.68026048e+00+4.53236014e+00j, 3.67721785e+00-4.53236014e+00j,\n",
       "       3.67396272e+00-4.53236014e+00j, 3.67048792e+00-4.53236014e+00j,\n",
       "       3.66678562e+00-4.53236014e+00j, 3.66284731e+00-4.53236014e+00j,\n",
       "       3.65866371e+00+4.53236014e+00j, 3.65422469e+00+4.53236014e+00j,\n",
       "       3.64951919e+00+4.53236014e+00j, 3.64453510e+00+4.53236014e+00j,\n",
       "       3.63925918e+00+4.53236014e+00j])"
      ]
     },
     "execution_count": 23,
     "metadata": {},
     "output_type": "execute_result"
    }
   ],
   "source": [
    "log_Holevo = np.log2(Holevo_capacities)\n",
    "log_Holevo"
   ]
  },
  {
   "cell_type": "code",
   "execution_count": 24,
   "metadata": {},
   "outputs": [
    {
     "name": "stderr",
     "output_type": "stream",
     "text": [
      "c:\\Users\\cahya\\anaconda3\\envs\\SymbolicComputation\\lib\\site-packages\\matplotlib\\cbook\\__init__.py:1298: ComplexWarning: Casting complex values to real discards the imaginary part\n",
      "  return np.asarray(x, float)\n"
     ]
    },
    {
     "data": {
      "text/plain": [
       "[<matplotlib.lines.Line2D at 0x219e01d8580>]"
      ]
     },
     "execution_count": 24,
     "metadata": {},
     "output_type": "execute_result"
    },
    {
     "data": {
      "image/png": "[encoded data removed]",
      "text/plain": [
       "<Figure size 432x288 with 1 Axes>"
      ]
     },
     "metadata": {
      "needs_background": "light"
     },
     "output_type": "display_data"
    }
   ],
   "source": [
    "plt.plot(q_strength,log_Holevo)"
   ]
  },
  {
   "cell_type": "code",
   "execution_count": null,
   "metadata": {},
   "outputs": [],
   "source": []
  }
 ],
 "metadata": {
  "kernelspec": {
   "display_name": "Python 3.8.12 ('SymbolicComputation')",
   "language": "python",
   "name": "python3"
  },
  "language_info": {
   "codemirror_mode": {
    "name": "ipython",
    "version": 3
   },
   "file_extension": ".py",
   "mimetype": "text/x-python",
   "name": "python",
   "nbconvert_exporter": "python",
   "pygments_lexer": "ipython3",
   "version": "3.8.12"
  },
  "orig_nbformat": 4,
  "vscode": {
   "interpreter": {
    "hash": "16bf6e0454b5a599c4825afe74915a275ff921f6a5edca4ba1b77555c1545010"
   }
  }
 },
 "nbformat": 4,
 "nbformat_minor": 2
}
