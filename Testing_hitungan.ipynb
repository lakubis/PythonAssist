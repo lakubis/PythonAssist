{
 "cells": [
  {
   "cell_type": "code",
   "execution_count": 1,
   "metadata": {},
   "outputs": [],
   "source": [
    "#Inisialisasi\n",
    "import GateLibrary2 as gl\n",
    "from sympy import Matrix\n",
    "import sympy as sp\n",
    "from sympy.physics.quantum import Dagger, TensorProduct\n",
    "from sympy import simplify,N\n",
    "import numpy as np\n",
    "import matplotlib.pyplot as plt"
   ]
  },
  {
   "cell_type": "markdown",
   "metadata": {},
   "source": [
    "Parameter yang digunakan"
   ]
  },
  {
   "cell_type": "code",
   "execution_count": 2,
   "metadata": {},
   "outputs": [],
   "source": [
    "#Definisikan control qubit\n",
    "gamma = sp.Symbol('gamma',real = True)\n",
    "rho_c = Matrix([[gamma,sp.sqrt(gamma*(1-gamma))],[sp.sqrt(gamma*(1-gamma)),1-gamma]])\n",
    "\n",
    "#Definisikan transmitted qubit\n",
    "a = sp.Symbol('a',real = True)\n",
    "b = sp.Symbol('b',real = True)\n",
    "c = sp.Symbol('c',real = True)\n",
    "pauli0 = sp.Matrix([[1,0],[0,1]])\n",
    "pauli1 = sp.Matrix([[0,1],[1,0]])\n",
    "pauli2 = sp.Matrix([[0,-sp.I],[sp.I,0]])\n",
    "pauli3 = sp.Matrix([[1,0],[0,-1]])\n",
    "rho_t = sp.Rational(1/2)*pauli0 + (a/2)*pauli1 + (b/2)*pauli2 + (c/2)*pauli3\n"
   ]
  },
  {
   "cell_type": "code",
   "execution_count": 3,
   "metadata": {},
   "outputs": [
    {
     "data": {
      "text/latex": [
       "$\\displaystyle \\left[\\begin{matrix}\\frac{c}{2} + \\frac{1}{2} & \\frac{a}{2} - \\frac{i b}{2}\\\\\\frac{a}{2} + \\frac{i b}{2} & \\frac{1}{2} - \\frac{c}{2}\\end{matrix}\\right]$"
      ],
      "text/plain": [
       "Matrix([\n",
       "[  c/2 + 1/2, a/2 - I*b/2],\n",
       "[a/2 + I*b/2,   1/2 - c/2]])"
      ]
     },
     "execution_count": 3,
     "metadata": {},
     "output_type": "execute_result"
    }
   ],
   "source": [
    "rho_t"
   ]
  },
  {
   "cell_type": "code",
   "execution_count": 4,
   "metadata": {},
   "outputs": [],
   "source": [
    "#Kekuatan noise\n",
    "NoiseStrength = 0.0\n",
    "#NoiseStrength = np.arange(0.0,1.01,0.01)\n",
    "#NoiseStrength = [0.0,0.1,0.2,0.3,0.4,0.5,0.6,0.7,0.8,0.9,1.0]\n",
    "\n",
    "#Nilai gamma\n",
    "GammaValue = 1/2\n",
    "GammaValue = simplify(GammaValue)\n",
    "\n",
    "#Nilai parameter [a,b,c]\n",
    "qubit_param = [1,0,0]\n"
   ]
  },
  {
   "cell_type": "code",
   "execution_count": 5,
   "metadata": {},
   "outputs": [],
   "source": [
    "gate_p = gl.choose_gate('p',1)\n",
    "gate_q = gl.choose_gate('p',3)"
   ]
  },
  {
   "cell_type": "code",
   "execution_count": 6,
   "metadata": {},
   "outputs": [],
   "source": [
    "#Bentuk \\rho_c \\otimes \\rho_t\n",
    "total_qubit = TensorProduct(rho_c,rho_t)\n",
    "\n",
    "rho0 = Matrix([[1,0],[0,0]])\n",
    "rho1 = Matrix([[0,0],[0,1]])\n",
    "#Bentuk K_{ij}\n",
    "K = [[0 for i in range(4)] for i in range(4)]\n",
    "K_dag = [[0 for i in range(4)] for i in range(4)]\n",
    "for i in range(4):\n",
    "    for j in range(4):\n",
    "        pauli_ij = gate_p['matrices'][i]*gate_q['matrices'][j]\n",
    "        pauli_ji = gate_p['matrices'][j]*gate_q['matrices'][i]\n",
    "        K[i][j] = (TensorProduct(rho0,pauli_ij) + TensorProduct(rho1,pauli_ji))\n",
    "        K_dag[i][j] = Dagger(TensorProduct(rho0,pauli_ij) + TensorProduct(rho1,pauli_ji))"
   ]
  },
  {
   "cell_type": "code",
   "execution_count": 7,
   "metadata": {},
   "outputs": [
    {
     "data": {
      "text/plain": [
       "[[Matrix([\n",
       "  [1 - p,     0,     0,     0],\n",
       "  [    0, 1 - p,     0,     0],\n",
       "  [    0,     0, 1 - p,     0],\n",
       "  [    0,     0,     0, 1 - p]]),\n",
       "  Matrix([\n",
       "  [0, 0,                   0,                   0],\n",
       "  [0, 0,                   0,                   0],\n",
       "  [0, 0,                   0, sqrt(p)*sqrt(1 - p)],\n",
       "  [0, 0, sqrt(p)*sqrt(1 - p),                   0]]),\n",
       "  Matrix([\n",
       "  [0, 0, 0, 0],\n",
       "  [0, 0, 0, 0],\n",
       "  [0, 0, 0, 0],\n",
       "  [0, 0, 0, 0]]),\n",
       "  Matrix([\n",
       "  [sqrt(p)*sqrt(1 - p),                    0, 0, 0],\n",
       "  [                  0, -sqrt(p)*sqrt(1 - p), 0, 0],\n",
       "  [                  0,                    0, 0, 0],\n",
       "  [                  0,                    0, 0, 0]])],\n",
       " [Matrix([\n",
       "  [                  0, sqrt(p)*sqrt(1 - p), 0, 0],\n",
       "  [sqrt(p)*sqrt(1 - p),                   0, 0, 0],\n",
       "  [                  0,                   0, 0, 0],\n",
       "  [                  0,                   0, 0, 0]]),\n",
       "  Matrix([\n",
       "  [0, 0, 0, 0],\n",
       "  [0, 0, 0, 0],\n",
       "  [0, 0, 0, 0],\n",
       "  [0, 0, 0, 0]]),\n",
       "  Matrix([\n",
       "  [0, 0, 0, 0],\n",
       "  [0, 0, 0, 0],\n",
       "  [0, 0, 0, 0],\n",
       "  [0, 0, 0, 0]]),\n",
       "  Matrix([\n",
       "  [0, -p, 0, 0],\n",
       "  [p,  0, 0, 0],\n",
       "  [0,  0, 0, 0],\n",
       "  [0,  0, 0, 0]])],\n",
       " [Matrix([\n",
       "  [0, 0, 0, 0],\n",
       "  [0, 0, 0, 0],\n",
       "  [0, 0, 0, 0],\n",
       "  [0, 0, 0, 0]]),\n",
       "  Matrix([\n",
       "  [0, 0, 0, 0],\n",
       "  [0, 0, 0, 0],\n",
       "  [0, 0, 0, 0],\n",
       "  [0, 0, 0, 0]]),\n",
       "  Matrix([\n",
       "  [0, 0, 0, 0],\n",
       "  [0, 0, 0, 0],\n",
       "  [0, 0, 0, 0],\n",
       "  [0, 0, 0, 0]]),\n",
       "  Matrix([\n",
       "  [0, 0, 0, 0],\n",
       "  [0, 0, 0, 0],\n",
       "  [0, 0, 0, 0],\n",
       "  [0, 0, 0, 0]])],\n",
       " [Matrix([\n",
       "  [0, 0,                   0,                    0],\n",
       "  [0, 0,                   0,                    0],\n",
       "  [0, 0, sqrt(p)*sqrt(1 - p),                    0],\n",
       "  [0, 0,                   0, -sqrt(p)*sqrt(1 - p)]]),\n",
       "  Matrix([\n",
       "  [0, 0, 0,  0],\n",
       "  [0, 0, 0,  0],\n",
       "  [0, 0, 0, -p],\n",
       "  [0, 0, p,  0]]),\n",
       "  Matrix([\n",
       "  [0, 0, 0, 0],\n",
       "  [0, 0, 0, 0],\n",
       "  [0, 0, 0, 0],\n",
       "  [0, 0, 0, 0]]),\n",
       "  Matrix([\n",
       "  [0, 0, 0, 0],\n",
       "  [0, 0, 0, 0],\n",
       "  [0, 0, 0, 0],\n",
       "  [0, 0, 0, 0]])]]"
      ]
     },
     "execution_count": 7,
     "metadata": {},
     "output_type": "execute_result"
    }
   ],
   "source": [
    "K"
   ]
  },
  {
   "cell_type": "code",
   "execution_count": 8,
   "metadata": {},
   "outputs": [
    {
     "data": {
      "text/plain": [
       "[[Matrix([\n",
       "  [1 - p,     0,     0,     0],\n",
       "  [    0, 1 - p,     0,     0],\n",
       "  [    0,     0, 1 - p,     0],\n",
       "  [    0,     0,     0, 1 - p]]),\n",
       "  Matrix([\n",
       "  [0, 0,                                         0,                                         0],\n",
       "  [0, 0,                                         0,                                         0],\n",
       "  [0, 0,                                         0, conjugate(sqrt(p))*conjugate(sqrt(1 - p))],\n",
       "  [0, 0, conjugate(sqrt(p))*conjugate(sqrt(1 - p)),                                         0]]),\n",
       "  Matrix([\n",
       "  [0, 0, 0, 0],\n",
       "  [0, 0, 0, 0],\n",
       "  [0, 0, 0, 0],\n",
       "  [0, 0, 0, 0]]),\n",
       "  Matrix([\n",
       "  [conjugate(sqrt(p))*conjugate(sqrt(1 - p)),                                          0, 0, 0],\n",
       "  [                                        0, -conjugate(sqrt(p))*conjugate(sqrt(1 - p)), 0, 0],\n",
       "  [                                        0,                                          0, 0, 0],\n",
       "  [                                        0,                                          0, 0, 0]])],\n",
       " [Matrix([\n",
       "  [                                        0, conjugate(sqrt(p))*conjugate(sqrt(1 - p)), 0, 0],\n",
       "  [conjugate(sqrt(p))*conjugate(sqrt(1 - p)),                                         0, 0, 0],\n",
       "  [                                        0,                                         0, 0, 0],\n",
       "  [                                        0,                                         0, 0, 0]]),\n",
       "  Matrix([\n",
       "  [0, 0, 0, 0],\n",
       "  [0, 0, 0, 0],\n",
       "  [0, 0, 0, 0],\n",
       "  [0, 0, 0, 0]]),\n",
       "  Matrix([\n",
       "  [0, 0, 0, 0],\n",
       "  [0, 0, 0, 0],\n",
       "  [0, 0, 0, 0],\n",
       "  [0, 0, 0, 0]]),\n",
       "  Matrix([\n",
       "  [ 0, p, 0, 0],\n",
       "  [-p, 0, 0, 0],\n",
       "  [ 0, 0, 0, 0],\n",
       "  [ 0, 0, 0, 0]])],\n",
       " [Matrix([\n",
       "  [0, 0, 0, 0],\n",
       "  [0, 0, 0, 0],\n",
       "  [0, 0, 0, 0],\n",
       "  [0, 0, 0, 0]]),\n",
       "  Matrix([\n",
       "  [0, 0, 0, 0],\n",
       "  [0, 0, 0, 0],\n",
       "  [0, 0, 0, 0],\n",
       "  [0, 0, 0, 0]]),\n",
       "  Matrix([\n",
       "  [0, 0, 0, 0],\n",
       "  [0, 0, 0, 0],\n",
       "  [0, 0, 0, 0],\n",
       "  [0, 0, 0, 0]]),\n",
       "  Matrix([\n",
       "  [0, 0, 0, 0],\n",
       "  [0, 0, 0, 0],\n",
       "  [0, 0, 0, 0],\n",
       "  [0, 0, 0, 0]])],\n",
       " [Matrix([\n",
       "  [0, 0,                                         0,                                          0],\n",
       "  [0, 0,                                         0,                                          0],\n",
       "  [0, 0, conjugate(sqrt(p))*conjugate(sqrt(1 - p)),                                          0],\n",
       "  [0, 0,                                         0, -conjugate(sqrt(p))*conjugate(sqrt(1 - p))]]),\n",
       "  Matrix([\n",
       "  [0, 0,  0, 0],\n",
       "  [0, 0,  0, 0],\n",
       "  [0, 0,  0, p],\n",
       "  [0, 0, -p, 0]]),\n",
       "  Matrix([\n",
       "  [0, 0, 0, 0],\n",
       "  [0, 0, 0, 0],\n",
       "  [0, 0, 0, 0],\n",
       "  [0, 0, 0, 0]]),\n",
       "  Matrix([\n",
       "  [0, 0, 0, 0],\n",
       "  [0, 0, 0, 0],\n",
       "  [0, 0, 0, 0],\n",
       "  [0, 0, 0, 0]])]]"
      ]
     },
     "execution_count": 8,
     "metadata": {},
     "output_type": "execute_result"
    }
   ],
   "source": [
    "K_dag"
   ]
  },
  {
   "cell_type": "code",
   "execution_count": 9,
   "metadata": {},
   "outputs": [],
   "source": [
    "#Inisialisasi matrix untuk output state\n",
    "output_state = Matrix([[0 for i in range(4)] for j in range(4)])\n",
    "#Jumlahkan K_{ij} \\rho_c\\otimes\\rho_t \\K_{ij}^\\dagger\n",
    "for i in range(4):\n",
    "    for j in range(4):\n",
    "        output_state += K[i][j]*total_qubit*K_dag[i][j]\n"
   ]
  },
  {
   "cell_type": "code",
   "execution_count": 10,
   "metadata": {},
   "outputs": [
    {
     "data": {
      "text/latex": [
       "$\\displaystyle \\left[\\begin{matrix}\\gamma \\sqrt{p} \\left(\\frac{1}{2} - \\frac{c}{2}\\right) \\sqrt{1 - p} \\overline{\\sqrt{p}} \\overline{\\sqrt{1 - p}} + \\gamma \\sqrt{p} \\sqrt{1 - p} \\left(\\frac{c}{2} + \\frac{1}{2}\\right) \\overline{\\sqrt{p}} \\overline{\\sqrt{1 - p}} + \\gamma p^{2} \\left(\\frac{1}{2} - \\frac{c}{2}\\right) + \\gamma \\left(1 - p\\right)^{2} \\left(\\frac{c}{2} + \\frac{1}{2}\\right) & - \\gamma \\sqrt{p} \\sqrt{1 - p} \\left(\\frac{a}{2} - \\frac{i b}{2}\\right) \\overline{\\sqrt{p}} \\overline{\\sqrt{1 - p}} + \\gamma \\sqrt{p} \\sqrt{1 - p} \\left(\\frac{a}{2} + \\frac{i b}{2}\\right) \\overline{\\sqrt{p}} \\overline{\\sqrt{1 - p}} - \\gamma p^{2} \\left(\\frac{a}{2} + \\frac{i b}{2}\\right) + \\gamma \\left(1 - p\\right)^{2} \\left(\\frac{a}{2} - \\frac{i b}{2}\\right) & \\sqrt{\\gamma \\left(1 - \\gamma\\right)} \\left(1 - p\\right)^{2} \\left(\\frac{c}{2} + \\frac{1}{2}\\right) & \\sqrt{\\gamma \\left(1 - \\gamma\\right)} \\left(1 - p\\right)^{2} \\left(\\frac{a}{2} - \\frac{i b}{2}\\right)\\\\\\gamma \\sqrt{p} \\sqrt{1 - p} \\left(\\frac{a}{2} - \\frac{i b}{2}\\right) \\overline{\\sqrt{p}} \\overline{\\sqrt{1 - p}} - \\gamma \\sqrt{p} \\sqrt{1 - p} \\left(\\frac{a}{2} + \\frac{i b}{2}\\right) \\overline{\\sqrt{p}} \\overline{\\sqrt{1 - p}} - \\gamma p^{2} \\left(\\frac{a}{2} - \\frac{i b}{2}\\right) + \\gamma \\left(1 - p\\right)^{2} \\left(\\frac{a}{2} + \\frac{i b}{2}\\right) & \\gamma \\sqrt{p} \\left(\\frac{1}{2} - \\frac{c}{2}\\right) \\sqrt{1 - p} \\overline{\\sqrt{p}} \\overline{\\sqrt{1 - p}} + \\gamma \\sqrt{p} \\sqrt{1 - p} \\left(\\frac{c}{2} + \\frac{1}{2}\\right) \\overline{\\sqrt{p}} \\overline{\\sqrt{1 - p}} + \\gamma p^{2} \\left(\\frac{c}{2} + \\frac{1}{2}\\right) + \\gamma \\left(\\frac{1}{2} - \\frac{c}{2}\\right) \\left(1 - p\\right)^{2} & \\sqrt{\\gamma \\left(1 - \\gamma\\right)} \\left(1 - p\\right)^{2} \\left(\\frac{a}{2} + \\frac{i b}{2}\\right) & \\sqrt{\\gamma \\left(1 - \\gamma\\right)} \\left(\\frac{1}{2} - \\frac{c}{2}\\right) \\left(1 - p\\right)^{2}\\\\\\sqrt{\\gamma \\left(1 - \\gamma\\right)} \\left(1 - p\\right)^{2} \\left(\\frac{c}{2} + \\frac{1}{2}\\right) & \\sqrt{\\gamma \\left(1 - \\gamma\\right)} \\left(1 - p\\right)^{2} \\left(\\frac{a}{2} - \\frac{i b}{2}\\right) & \\sqrt{p} \\left(\\frac{1}{2} - \\frac{c}{2}\\right) \\left(1 - \\gamma\\right) \\sqrt{1 - p} \\overline{\\sqrt{p}} \\overline{\\sqrt{1 - p}} + \\sqrt{p} \\left(1 - \\gamma\\right) \\sqrt{1 - p} \\left(\\frac{c}{2} + \\frac{1}{2}\\right) \\overline{\\sqrt{p}} \\overline{\\sqrt{1 - p}} + p^{2} \\left(\\frac{1}{2} - \\frac{c}{2}\\right) \\left(1 - \\gamma\\right) + \\left(1 - \\gamma\\right) \\left(1 - p\\right)^{2} \\left(\\frac{c}{2} + \\frac{1}{2}\\right) & - \\sqrt{p} \\left(1 - \\gamma\\right) \\sqrt{1 - p} \\left(\\frac{a}{2} - \\frac{i b}{2}\\right) \\overline{\\sqrt{p}} \\overline{\\sqrt{1 - p}} + \\sqrt{p} \\left(1 - \\gamma\\right) \\sqrt{1 - p} \\left(\\frac{a}{2} + \\frac{i b}{2}\\right) \\overline{\\sqrt{p}} \\overline{\\sqrt{1 - p}} - p^{2} \\left(1 - \\gamma\\right) \\left(\\frac{a}{2} + \\frac{i b}{2}\\right) + \\left(1 - \\gamma\\right) \\left(1 - p\\right)^{2} \\left(\\frac{a}{2} - \\frac{i b}{2}\\right)\\\\\\sqrt{\\gamma \\left(1 - \\gamma\\right)} \\left(1 - p\\right)^{2} \\left(\\frac{a}{2} + \\frac{i b}{2}\\right) & \\sqrt{\\gamma \\left(1 - \\gamma\\right)} \\left(\\frac{1}{2} - \\frac{c}{2}\\right) \\left(1 - p\\right)^{2} & \\sqrt{p} \\left(1 - \\gamma\\right) \\sqrt{1 - p} \\left(\\frac{a}{2} - \\frac{i b}{2}\\right) \\overline{\\sqrt{p}} \\overline{\\sqrt{1 - p}} - \\sqrt{p} \\left(1 - \\gamma\\right) \\sqrt{1 - p} \\left(\\frac{a}{2} + \\frac{i b}{2}\\right) \\overline{\\sqrt{p}} \\overline{\\sqrt{1 - p}} - p^{2} \\left(1 - \\gamma\\right) \\left(\\frac{a}{2} - \\frac{i b}{2}\\right) + \\left(1 - \\gamma\\right) \\left(1 - p\\right)^{2} \\left(\\frac{a}{2} + \\frac{i b}{2}\\right) & \\sqrt{p} \\left(\\frac{1}{2} - \\frac{c}{2}\\right) \\left(1 - \\gamma\\right) \\sqrt{1 - p} \\overline{\\sqrt{p}} \\overline{\\sqrt{1 - p}} + \\sqrt{p} \\left(1 - \\gamma\\right) \\sqrt{1 - p} \\left(\\frac{c}{2} + \\frac{1}{2}\\right) \\overline{\\sqrt{p}} \\overline{\\sqrt{1 - p}} + p^{2} \\left(1 - \\gamma\\right) \\left(\\frac{c}{2} + \\frac{1}{2}\\right) + \\left(\\frac{1}{2} - \\frac{c}{2}\\right) \\left(1 - \\gamma\\right) \\left(1 - p\\right)^{2}\\end{matrix}\\right]$"
      ],
      "text/plain": [
       "Matrix([\n",
       "[        gamma*sqrt(p)*(1/2 - c/2)*sqrt(1 - p)*conjugate(sqrt(p))*conjugate(sqrt(1 - p)) + gamma*sqrt(p)*sqrt(1 - p)*(c/2 + 1/2)*conjugate(sqrt(p))*conjugate(sqrt(1 - p)) + gamma*p**2*(1/2 - c/2) + gamma*(1 - p)**2*(c/2 + 1/2), -gamma*sqrt(p)*sqrt(1 - p)*(a/2 - I*b/2)*conjugate(sqrt(p))*conjugate(sqrt(1 - p)) + gamma*sqrt(p)*sqrt(1 - p)*(a/2 + I*b/2)*conjugate(sqrt(p))*conjugate(sqrt(1 - p)) - gamma*p**2*(a/2 + I*b/2) + gamma*(1 - p)**2*(a/2 - I*b/2),                                                                                                                                                                                                            sqrt(gamma*(1 - gamma))*(1 - p)**2*(c/2 + 1/2),                                                                                                                                                                                                           sqrt(gamma*(1 - gamma))*(1 - p)**2*(a/2 - I*b/2)],\n",
       "[gamma*sqrt(p)*sqrt(1 - p)*(a/2 - I*b/2)*conjugate(sqrt(p))*conjugate(sqrt(1 - p)) - gamma*sqrt(p)*sqrt(1 - p)*(a/2 + I*b/2)*conjugate(sqrt(p))*conjugate(sqrt(1 - p)) - gamma*p**2*(a/2 - I*b/2) + gamma*(1 - p)**2*(a/2 + I*b/2),          gamma*sqrt(p)*(1/2 - c/2)*sqrt(1 - p)*conjugate(sqrt(p))*conjugate(sqrt(1 - p)) + gamma*sqrt(p)*sqrt(1 - p)*(c/2 + 1/2)*conjugate(sqrt(p))*conjugate(sqrt(1 - p)) + gamma*p**2*(c/2 + 1/2) + gamma*(1/2 - c/2)*(1 - p)**2,                                                                                                                                                                                                          sqrt(gamma*(1 - gamma))*(1 - p)**2*(a/2 + I*b/2),                                                                                                                                                                                                             sqrt(gamma*(1 - gamma))*(1/2 - c/2)*(1 - p)**2],\n",
       "[                                                                                                                                                                                   sqrt(gamma*(1 - gamma))*(1 - p)**2*(c/2 + 1/2),                                                                                                                                                                                   sqrt(gamma*(1 - gamma))*(1 - p)**2*(a/2 - I*b/2),         sqrt(p)*(1/2 - c/2)*(1 - gamma)*sqrt(1 - p)*conjugate(sqrt(p))*conjugate(sqrt(1 - p)) + sqrt(p)*(1 - gamma)*sqrt(1 - p)*(c/2 + 1/2)*conjugate(sqrt(p))*conjugate(sqrt(1 - p)) + p**2*(1/2 - c/2)*(1 - gamma) + (1 - gamma)*(1 - p)**2*(c/2 + 1/2), -sqrt(p)*(1 - gamma)*sqrt(1 - p)*(a/2 - I*b/2)*conjugate(sqrt(p))*conjugate(sqrt(1 - p)) + sqrt(p)*(1 - gamma)*sqrt(1 - p)*(a/2 + I*b/2)*conjugate(sqrt(p))*conjugate(sqrt(1 - p)) - p**2*(1 - gamma)*(a/2 + I*b/2) + (1 - gamma)*(1 - p)**2*(a/2 - I*b/2)],\n",
       "[                                                                                                                                                                                 sqrt(gamma*(1 - gamma))*(1 - p)**2*(a/2 + I*b/2),                                                                                                                                                                                     sqrt(gamma*(1 - gamma))*(1/2 - c/2)*(1 - p)**2, sqrt(p)*(1 - gamma)*sqrt(1 - p)*(a/2 - I*b/2)*conjugate(sqrt(p))*conjugate(sqrt(1 - p)) - sqrt(p)*(1 - gamma)*sqrt(1 - p)*(a/2 + I*b/2)*conjugate(sqrt(p))*conjugate(sqrt(1 - p)) - p**2*(1 - gamma)*(a/2 - I*b/2) + (1 - gamma)*(1 - p)**2*(a/2 + I*b/2),          sqrt(p)*(1/2 - c/2)*(1 - gamma)*sqrt(1 - p)*conjugate(sqrt(p))*conjugate(sqrt(1 - p)) + sqrt(p)*(1 - gamma)*sqrt(1 - p)*(c/2 + 1/2)*conjugate(sqrt(p))*conjugate(sqrt(1 - p)) + p**2*(1 - gamma)*(c/2 + 1/2) + (1/2 - c/2)*(1 - gamma)*(1 - p)**2]])"
      ]
     },
     "execution_count": 10,
     "metadata": {},
     "output_type": "execute_result"
    }
   ],
   "source": [
    "output_state"
   ]
  },
  {
   "cell_type": "markdown",
   "metadata": {},
   "source": [
    "Substitusi nilai dari p dan q"
   ]
  },
  {
   "cell_type": "code",
   "execution_count": 11,
   "metadata": {},
   "outputs": [
    {
     "data": {
      "text/latex": [
       "$\\displaystyle \\left[\\begin{matrix}\\gamma \\left(\\frac{c}{2} + \\frac{1}{2}\\right) & \\gamma \\left(\\frac{a}{2} - \\frac{i b}{2}\\right) & \\sqrt{\\gamma \\left(1 - \\gamma\\right)} \\left(\\frac{c}{2} + \\frac{1}{2}\\right) & \\sqrt{\\gamma \\left(1 - \\gamma\\right)} \\left(\\frac{a}{2} - \\frac{i b}{2}\\right)\\\\\\gamma \\left(\\frac{a}{2} + \\frac{i b}{2}\\right) & \\gamma \\left(\\frac{1}{2} - \\frac{c}{2}\\right) & \\sqrt{\\gamma \\left(1 - \\gamma\\right)} \\left(\\frac{a}{2} + \\frac{i b}{2}\\right) & \\sqrt{\\gamma \\left(1 - \\gamma\\right)} \\left(\\frac{1}{2} - \\frac{c}{2}\\right)\\\\\\sqrt{\\gamma \\left(1 - \\gamma\\right)} \\left(\\frac{c}{2} + \\frac{1}{2}\\right) & \\sqrt{\\gamma \\left(1 - \\gamma\\right)} \\left(\\frac{a}{2} - \\frac{i b}{2}\\right) & \\left(1 - \\gamma\\right) \\left(\\frac{c}{2} + \\frac{1}{2}\\right) & \\left(1 - \\gamma\\right) \\left(\\frac{a}{2} - \\frac{i b}{2}\\right)\\\\\\sqrt{\\gamma \\left(1 - \\gamma\\right)} \\left(\\frac{a}{2} + \\frac{i b}{2}\\right) & \\sqrt{\\gamma \\left(1 - \\gamma\\right)} \\left(\\frac{1}{2} - \\frac{c}{2}\\right) & \\left(1 - \\gamma\\right) \\left(\\frac{a}{2} + \\frac{i b}{2}\\right) & \\left(\\frac{1}{2} - \\frac{c}{2}\\right) \\left(1 - \\gamma\\right)\\end{matrix}\\right]$"
      ],
      "text/plain": [
       "Matrix([\n",
       "[                    gamma*(c/2 + 1/2),                   gamma*(a/2 - I*b/2),   sqrt(gamma*(1 - gamma))*(c/2 + 1/2), sqrt(gamma*(1 - gamma))*(a/2 - I*b/2)],\n",
       "[                  gamma*(a/2 + I*b/2),                     gamma*(1/2 - c/2), sqrt(gamma*(1 - gamma))*(a/2 + I*b/2),   sqrt(gamma*(1 - gamma))*(1/2 - c/2)],\n",
       "[  sqrt(gamma*(1 - gamma))*(c/2 + 1/2), sqrt(gamma*(1 - gamma))*(a/2 - I*b/2),               (1 - gamma)*(c/2 + 1/2),             (1 - gamma)*(a/2 - I*b/2)],\n",
       "[sqrt(gamma*(1 - gamma))*(a/2 + I*b/2),   sqrt(gamma*(1 - gamma))*(1/2 - c/2),             (1 - gamma)*(a/2 + I*b/2),               (1/2 - c/2)*(1 - gamma)]])"
      ]
     },
     "execution_count": 11,
     "metadata": {},
     "output_type": "execute_result"
    }
   ],
   "source": [
    "#Bagian ini perlu direvisi, kalau kasus keduanya sama strengthnya atau beda seperti apa\n",
    "p = sp.Symbol('p',real = True)\n",
    "#q = sp.Symbol('q',real = True)\n",
    "output_subs = output_state.subs(p,NoiseStrength)\n",
    "output_subs2 = output_subs\n",
    "#output_subs2 = output_subs.subs(q,1/2)\n",
    "#output_state\n",
    "output_subs2"
   ]
  },
  {
   "cell_type": "code",
   "execution_count": 12,
   "metadata": {},
   "outputs": [],
   "source": [
    "#Substitusi nilai parameter, nanti harus direvisi agar ditentukan di awal fungsi\n",
    "for i in range(4):\n",
    "    output_subs2 = output_subs2.subs(a,qubit_param[0])\n",
    "    output_subs2 = output_subs2.subs(b,qubit_param[1])\n",
    "    output_subs2 = output_subs2.subs(c,qubit_param[2])\n",
    "    output_subs2 = output_subs2.subs(gamma,GammaValue)"
   ]
  },
  {
   "cell_type": "code",
   "execution_count": 13,
   "metadata": {},
   "outputs": [
    {
     "data": {
      "text/latex": [
       "$\\displaystyle \\left[\\begin{matrix}0.25 & 0.25 & 0.25 & 0.25\\\\0.25 & 0.25 & 0.25 & 0.25\\\\0.25 & 0.25 & 0.25 & 0.25\\\\0.25 & 0.25 & 0.25 & 0.25\\end{matrix}\\right]$"
      ],
      "text/plain": [
       "Matrix([\n",
       "[0.25, 0.25, 0.25, 0.25],\n",
       "[0.25, 0.25, 0.25, 0.25],\n",
       "[0.25, 0.25, 0.25, 0.25],\n",
       "[0.25, 0.25, 0.25, 0.25]])"
      ]
     },
     "execution_count": 13,
     "metadata": {},
     "output_type": "execute_result"
    }
   ],
   "source": [
    "output_subs2"
   ]
  },
  {
   "cell_type": "markdown",
   "metadata": {},
   "source": [
    "Di bagian ini kita ingin mencari nilai dari $\\tilde{\\rho_c}$"
   ]
  },
  {
   "cell_type": "code",
   "execution_count": 14,
   "metadata": {},
   "outputs": [],
   "source": [
    "#Bagian ini juga perlu direvisi, lebih baik melakukan partial trace dengan iterasi\n",
    "#Cari rho_c_tilde\n",
    "rho_c_tilde = Matrix([[output_subs2[0,0]+output_subs2[1,1],output_subs2[0,2]+output_subs2[1,3]],[output_subs2[2,0]+output_subs2[3,1],output_subs2[2,2]+output_subs2[3,3]]])\n"
   ]
  },
  {
   "cell_type": "code",
   "execution_count": 15,
   "metadata": {},
   "outputs": [
    {
     "data": {
      "text/latex": [
       "$\\displaystyle \\left[\\begin{matrix}0.5 & 0.5\\\\0.5 & 0.5\\end{matrix}\\right]$"
      ],
      "text/plain": [
       "Matrix([\n",
       "[0.5, 0.5],\n",
       "[0.5, 0.5]])"
      ]
     },
     "execution_count": 15,
     "metadata": {},
     "output_type": "execute_result"
    }
   ],
   "source": [
    "rho_c_tilde"
   ]
  },
  {
   "cell_type": "code",
   "execution_count": 16,
   "metadata": {},
   "outputs": [],
   "source": [
    "#Cari eigen value dari output state dan \\tilde{\\rho}_c\n",
    "Eigen_value = output_subs2.eigenvals()\n",
    "EigValC = rho_c_tilde.eigenvals()"
   ]
  },
  {
   "cell_type": "code",
   "execution_count": 17,
   "metadata": {},
   "outputs": [
    {
     "data": {
      "text/plain": [
       "{0: 2, 1.00000000000000: 1, -4.92445252617321e-33: 1}"
      ]
     },
     "execution_count": 17,
     "metadata": {},
     "output_type": "execute_result"
    }
   ],
   "source": [
    "Eigen_value"
   ]
  },
  {
   "cell_type": "code",
   "execution_count": 18,
   "metadata": {},
   "outputs": [
    {
     "data": {
      "text/plain": [
       "{0: 1, 1.00000000000000: 1}"
      ]
     },
     "execution_count": 18,
     "metadata": {},
     "output_type": "execute_result"
    }
   ],
   "source": [
    "EigValC"
   ]
  },
  {
   "cell_type": "code",
   "execution_count": 19,
   "metadata": {},
   "outputs": [],
   "source": [
    "#Buat eigen value ke dalam array\n",
    "keys = gl.get_keys(Eigen_value)\n",
    "keys_c = gl.get_keys(EigValC)"
   ]
  },
  {
   "cell_type": "code",
   "execution_count": 20,
   "metadata": {},
   "outputs": [
    {
     "data": {
      "text/plain": [
       "[0, 0, 1.00000000000000, -4.92445252617321e-33]"
      ]
     },
     "execution_count": 20,
     "metadata": {},
     "output_type": "execute_result"
    }
   ],
   "source": [
    "keys"
   ]
  },
  {
   "cell_type": "code",
   "execution_count": 21,
   "metadata": {},
   "outputs": [
    {
     "data": {
      "text/plain": [
       "[0, 1.00000000000000]"
      ]
     },
     "execution_count": 21,
     "metadata": {},
     "output_type": "execute_result"
    }
   ],
   "source": [
    "keys_c"
   ]
  },
  {
   "cell_type": "markdown",
   "metadata": {},
   "source": [
    "Dari bagian ini, kita dapat menghitung von Neumann entropynya sebagai berikut\n",
    "\n",
    "$H = -\\sum_i\\lambda_i \\ln \\lambda_i$"
   ]
  },
  {
   "cell_type": "code",
   "execution_count": 22,
   "metadata": {},
   "outputs": [],
   "source": [
    "#Hitung von Neumann entropy menggunakan nilai eigen\n",
    "H_output = gl.vonNeumann(keys)\n",
    "H_c = gl.vonNeumann(keys_c)"
   ]
  },
  {
   "cell_type": "code",
   "execution_count": 23,
   "metadata": {},
   "outputs": [
    {
     "data": {
      "text/latex": [
       "$\\displaystyle -3.66335415513154 \\cdot 10^{-31} + 4.92445252617321 \\cdot 10^{-33} i \\pi$"
      ],
      "text/plain": [
       "-3.66335415513154e-31 + 4.92445252617321e-33*I*pi"
      ]
     },
     "execution_count": 23,
     "metadata": {},
     "output_type": "execute_result"
    }
   ],
   "source": [
    "H_output"
   ]
  },
  {
   "cell_type": "code",
   "execution_count": 24,
   "metadata": {},
   "outputs": [
    {
     "data": {
      "text/latex": [
       "$\\displaystyle 0$"
      ],
      "text/plain": [
       "0"
      ]
     },
     "execution_count": 24,
     "metadata": {},
     "output_type": "execute_result"
    }
   ],
   "source": [
    "H_c"
   ]
  },
  {
   "cell_type": "markdown",
   "metadata": {},
   "source": [
    "Sekarang kita akan menghitung nilai dari Holevo Capacitynya melalui ekspresi berikut\n",
    "$\\chi(\\mathfrak{s}[\\mathcal{N}_p,\\mathcal{N}_q]) = 1 + H(\\tilde{\\rho}_c) - H^{min}(\\mathfrak{s}[\\mathcal{N}_p,\\mathcal{N}_q])$"
   ]
  },
  {
   "cell_type": "code",
   "execution_count": 25,
   "metadata": {},
   "outputs": [
    {
     "data": {
      "text/latex": [
       "$\\displaystyle 1.0 - 1.54706238791775 \\cdot 10^{-32} i$"
      ],
      "text/plain": [
       "1.0 - 1.54706238791775e-32*I"
      ]
     },
     "execution_count": 25,
     "metadata": {},
     "output_type": "execute_result"
    }
   ],
   "source": [
    "#Hitung Holevo capacity\n",
    "Holevo_cap = 1 + N(H_c) - N(H_output)\n",
    "Holevo_cap"
   ]
  }
 ],
 "metadata": {
  "interpreter": {
   "hash": "16bf6e0454b5a599c4825afe74915a275ff921f6a5edca4ba1b77555c1545010"
  },
  "kernelspec": {
   "display_name": "Python 3.8.12 ('SymbolicComputation')",
   "language": "python",
   "name": "python3"
  },
  "language_info": {
   "codemirror_mode": {
    "name": "ipython",
    "version": 3
   },
   "file_extension": ".py",
   "mimetype": "text/x-python",
   "name": "python",
   "nbconvert_exporter": "python",
   "pygments_lexer": "ipython3",
   "version": "3.8.12"
  },
  "orig_nbformat": 4
 },
 "nbformat": 4,
 "nbformat_minor": 2
}
