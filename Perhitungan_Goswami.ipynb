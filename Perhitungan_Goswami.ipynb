{
 "cells": [
  {
   "cell_type": "code",
   "execution_count": 1,
   "metadata": {},
   "outputs": [],
   "source": [
    "#Inisialisasi\n",
    "import GateLibrary2 as gl\n",
    "from sympy import Matrix\n",
    "import sympy as sp\n",
    "from sympy.physics.quantum import Dagger, TensorProduct\n",
    "from sympy import simplify,N\n",
    "import numpy as np"
   ]
  },
  {
   "cell_type": "markdown",
   "metadata": {},
   "source": [
    "Pertama-tama, kita akan mendefinisikan\n",
    "\n",
    "$\\rho_c = \\begin{pmatrix} \\gamma & \\sqrt{\\gamma(1-\\gamma)} \\\\ \\sqrt{\\gamma(1-\\gamma)} & 1-\\gamma \\end{pmatrix}$\n",
    "\n",
    "dan juga\n",
    "\n",
    "$\\rho_t = \\frac{1}{2}\\sigma_0 + \\frac{a}{2}\\sigma_1 + \\frac{b}{2}\\sigma_2 + \\frac{c}{2}\\sigma_3 = \\frac{1}{2}\\begin{pmatrix}\n",
    "    1+c & a-ib\\\\ a+ib & 1-c\n",
    "\\end{pmatrix}$"
   ]
  },
  {
   "cell_type": "code",
   "execution_count": 2,
   "metadata": {},
   "outputs": [],
   "source": [
    "#Definisikan control qubit\n",
    "gamma = sp.Symbol('gamma',real = True)\n",
    "rho_c = Matrix([[gamma,sp.sqrt(gamma*(1-gamma))],[sp.sqrt(gamma*(1-gamma)),1-gamma]])\n",
    "\n",
    "#Definisikan transmitted qubit\n",
    "a = sp.Symbol('a',real = True)\n",
    "b = sp.Symbol('b',real = True)\n",
    "c = sp.Symbol('c',real = True)\n",
    "pauli0 = sp.Matrix([[1,0],[0,1]])\n",
    "pauli1 = sp.Matrix([[0,1],[1,0]])\n",
    "pauli2 = sp.Matrix([[0,-sp.I],[sp.I,0]])\n",
    "pauli3 = sp.Matrix([[1,0],[0,-1]])\n",
    "rho_t = sp.Rational(1/2)*pauli0 + (a/2)*pauli1 + (b/2)*pauli2 + (c/2)*pauli3\n",
    "\n"
   ]
  },
  {
   "cell_type": "markdown",
   "metadata": {},
   "source": [
    "Menentukan kekuatan noise dan juga nilai gamma yang diinginkan"
   ]
  },
  {
   "cell_type": "code",
   "execution_count": 3,
   "metadata": {},
   "outputs": [],
   "source": [
    "#Kekuatan noise\n",
    "NoiseStrength = [0.0,0.1,0.2,0.3,0.4,0.5,0.6,0.7,0.8,0.9,1.0]\n",
    "\n",
    "#Nilai gamma\n",
    "GammaValue = 1/2\n",
    "GammaValue = simplify(GammaValue)"
   ]
  },
  {
   "cell_type": "markdown",
   "metadata": {},
   "source": [
    "Sekarang kita juga akan mendefinisikan gate yang terdapat pada GateLibrary2.py"
   ]
  },
  {
   "cell_type": "code",
   "execution_count": 4,
   "metadata": {},
   "outputs": [],
   "source": [
    "gate_p = gl.choose_gate('p',4)\n",
    "gate_q = gl.choose_gate('p',4)"
   ]
  },
  {
   "cell_type": "code",
   "execution_count": 5,
   "metadata": {},
   "outputs": [],
   "source": [
    "def Holevo(rho_c,rho_t,gate_p,gate_q,NoiseStrength,GammaValue):\n",
    "    #Bentuk \\rho_c \\otimes \\rho_t\n",
    "    total_qubit = TensorProduct(rho_c,rho_t)\n",
    "\n",
    "    rho0 = Matrix([[1,0],[0,0]])\n",
    "    rho1 = Matrix([[0,0],[0,1]])\n",
    "    #Bentuk K_{ij}\n",
    "    K = [[0 for i in range(4)] for i in range(4)]\n",
    "    K_dag = [[0 for i in range(4)] for i in range(4)]\n",
    "    for i in range(4):\n",
    "        for j in range(4):\n",
    "            pauli_ij = gate_p['matrices'][i]*gate_q['matrices'][j]\n",
    "            pauli_ji = gate_p['matrices'][j]*gate_q['matrices'][i]\n",
    "            K[i][j] = (TensorProduct(rho0,pauli_ij) + TensorProduct(rho1,pauli_ji))\n",
    "            K_dag[i][j] = Dagger(TensorProduct(rho0,pauli_ij) + TensorProduct(rho1,pauli_ji))\n",
    "\n",
    "    #Inisialisasi matrix untuk output state\n",
    "    output_state = Matrix([[0 for i in range(4)] for j in range(4)])\n",
    "\n",
    "    #Jumlahkan K_{ij} \\rho_c\\otimes\\rho_t \\K_{ij}^\\dagger\n",
    "    for i in range(4):\n",
    "        for j in range(4):\n",
    "            output_state += K[i][j]*total_qubit*K_dag[i][j]\n",
    "\n",
    "    #Bagian ini perlu direvisi, kalau kasus keduanya sama strengthnya atau beda seperti apa\n",
    "    p = sp.Symbol('p',real = True)\n",
    "    #q = sp.Symbol('q',real = True)\n",
    "    output_subs = output_state.subs(p,NoiseStrength)\n",
    "    output_subs2 = output_subs\n",
    "    #output_subs2 = output_subs.subs(q,1/2)\n",
    "    #output_state\n",
    "    output_subs2\n",
    "\n",
    "    #Bagian ini juga perlu direvisi, lebih baik melakukan partial trace dengan iterasi\n",
    "    #Cari rho_c_tilde\n",
    "    rho_c_tilde = Matrix([[output_subs2[0,0]+output_subs2[1,1],output_subs2[0,2]+output_subs2[1,3]],[output_subs2[2,0]+output_subs2[3,1],output_subs2[2,2]+output_subs2[3,3]]])\n",
    "\n",
    "\n",
    "    #Cari eigen value dari output state dan \\tilde{\\rho}_c\n",
    "    Eigen_value = output_subs2.eigenvals()\n",
    "    EigValC = rho_c_tilde.eigenvals()\n",
    "\n",
    "\n",
    "    #Bagian ini perlu direvisi, ada cara yang lebih baik untuk memasukkan eigen value ke dalam array\n",
    "    #Buat eigen value ke dalam array\n",
    "    keys = [k for k in Eigen_value]\n",
    "    kunci = 0\n",
    "    for i in keys:\n",
    "        if Eigen_value[i]>1:\n",
    "            kunci = i\n",
    "    keys.append(kunci)\n",
    "\n",
    "\n",
    "    keys_c = [k for k in EigValC]\n",
    "    kunci = 0\n",
    "    for i in keys_c:\n",
    "        if EigValC[i]>1:\n",
    "            kunci = i\n",
    "    keys_c.append(kunci)\n",
    "\n",
    "    #Substitusi nilai parameter, nanti harus direvisi agar ditentukan di awal fungsi\n",
    "    for i in range(4):\n",
    "        keys[i] = keys[i].subs(a,0)\n",
    "        keys[i] = keys[i].subs(b,0)\n",
    "        keys[i] = keys[i].subs(c,1)\n",
    "        keys[i] = keys[i].subs(gamma,GammaValue)\n",
    "\n",
    "    for i in range(2):\n",
    "        keys_c[i] = keys_c[i].subs(a,0)\n",
    "        keys_c[i] = keys_c[i].subs(b,0)\n",
    "        keys_c[i] = keys_c[i].subs(c,1)\n",
    "        keys_c[i] = keys_c[i].subs(gamma,GammaValue)\n",
    "\n",
    "    #Hitung von Neumann entropy menggunakan nilai eigen\n",
    "    H_output = gl.vonNeumann(keys)\n",
    "    #for i in keys:\n",
    "    #    if i == 0:\n",
    "    #        H_output = H_output + 0\n",
    "    #    else:\n",
    "    #        H_output = H_output + i*sp.log(i)\n",
    "\n",
    "    H_c = gl.vonNeumann(keys_c)\n",
    "    #for i in keys_c:\n",
    "    #    if i == 0:\n",
    "    #        H_c = H_c + 0\n",
    "    #    else:\n",
    "    #        H_c = H_c + i*sp.log(i)\n",
    "\n",
    "    #Hitung Holevo capacity\n",
    "    Holevo_cap = 1 + N(H_c) - N(H_output)\n",
    "\n",
    "    return Holevo_cap\n",
    "\n",
    "\n"
   ]
  },
  {
   "cell_type": "code",
   "execution_count": 6,
   "metadata": {},
   "outputs": [
    {
     "name": "stdout",
     "output_type": "stream",
     "text": [
      "[1, 0.985370607084091 - 9.018747709474e-17*I, 0.961727660497548 - 2.49457165613233e-17*I, 0.941479071539821 - 6.99434220360957e-18*I, 0.929353753995058 - 1.24617211622026e-18*I, 0.926207656006308 - 3.12837334902237e-19*I, 0.930458930584062 + 4.4603391918839e-19*I, 0.939072722587361 + 6.5687665889403e-20*I, 0.948477319925378 + 3.14773550505079e-19*I, 0.955565923368883 + 8.22038213067711e-19*I, 0.958792180938041]\n"
     ]
    }
   ],
   "source": [
    "#Sekarang kita akan mencari hasil untuk tiap strength yang berbeda\n",
    "hasil = [0.0+0j for i in range(len(NoiseStrength))]\n",
    "for i in range(len(NoiseStrength)):\n",
    "    hasil[i] = Holevo(rho_c,rho_t,gate_p,gate_q,NoiseStrength[i],GammaValue)\n",
    "\n",
    "print(hasil)"
   ]
  },
  {
   "cell_type": "code",
   "execution_count": null,
   "metadata": {},
   "outputs": [],
   "source": []
  }
 ],
 "metadata": {
  "interpreter": {
   "hash": "16bf6e0454b5a599c4825afe74915a275ff921f6a5edca4ba1b77555c1545010"
  },
  "kernelspec": {
   "display_name": "Python 3.8.12 ('SymbolicComputation')",
   "language": "python",
   "name": "python3"
  },
  "language_info": {
   "codemirror_mode": {
    "name": "ipython",
    "version": 3
   },
   "file_extension": ".py",
   "mimetype": "text/x-python",
   "name": "python",
   "nbconvert_exporter": "python",
   "pygments_lexer": "ipython3",
   "version": "3.8.12"
  },
  "orig_nbformat": 4
 },
 "nbformat": 4,
 "nbformat_minor": 2
}
