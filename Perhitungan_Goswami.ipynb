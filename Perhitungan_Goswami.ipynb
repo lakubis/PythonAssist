{
  "cells": [
    {
      "cell_type": "code",
      "execution_count": 1,
      "metadata": {
        "id": "4pZj-bJX01ne"
      },
      "outputs": [],
      "source": [
        "#Inisialisasi\n",
        "import GateLibrary2 as gl\n",
        "from sympy import Matrix\n",
        "import sympy as sp\n",
        "from sympy.physics.quantum import Dagger, TensorProduct\n",
        "from sympy import simplify,N\n",
        "import numpy as np\n",
        "import matplotlib.pyplot as plt"
      ]
    },
    {
      "cell_type": "markdown",
      "metadata": {
        "id": "ctZe6XxG01nl"
      },
      "source": [
        "Sekarang kita juga akan mendefinisikan gate yang terdapat pada GateLibrary2.py"
      ]
    },
    {
      "cell_type": "code",
      "execution_count": 2,
      "metadata": {
        "id": "n2VGatfR01nn"
      },
      "outputs": [],
      "source": [
        "def Holevo(rho_c,rho_t,gate_p,gate_q,NoiseStrength,GammaValue,qubit_param):\n",
        "    #Bentuk \\rho_c \\otimes \\rho_t\n",
        "    total_qubit = TensorProduct(rho_c,rho_t)\n",
        "\n",
        "    rho0 = Matrix([[1,0],[0,0]])\n",
        "    rho1 = Matrix([[0,0],[0,1]])\n",
        "    #Bentuk K_{ij}\n",
        "    K = [[0 for i in range(4)] for i in range(4)]\n",
        "    K_dag = [[0 for i in range(4)] for i in range(4)]\n",
        "    for i in range(4):\n",
        "        for j in range(4):\n",
        "            pauli_ij = gate_p['matrices'][i]*gate_q['matrices'][j]\n",
        "            pauli_ji = gate_p['matrices'][j]*gate_q['matrices'][i]\n",
        "            K[i][j] = (TensorProduct(rho0,pauli_ij) + TensorProduct(rho1,pauli_ji))\n",
        "            K_dag[i][j] = Dagger(TensorProduct(rho0,pauli_ij) + TensorProduct(rho1,pauli_ji))\n",
        "\n",
        "    #Inisialisasi matrix untuk output state\n",
        "    output_state = Matrix([[0 for i in range(4)] for j in range(4)])\n",
        "\n",
        "    #Jumlahkan K_{ij} \\rho_c\\otimes\\rho_t \\K_{ij}^\\dagger\n",
        "    for i in range(4):\n",
        "        for j in range(4):\n",
        "            output_state += K[i][j]*total_qubit*K_dag[i][j]\n",
        "\n",
        "    #Bagian ini perlu direvisi, kalau kasus keduanya sama strengthnya atau beda seperti apa\n",
        "    p = sp.Symbol('p',real = True)\n",
        "    #q = sp.Symbol('q',real = True)\n",
        "    output_subs = output_state.subs(p,NoiseStrength)\n",
        "    output_subs2 = output_subs\n",
        "    \n",
        "\n",
        "    #Substitusi nilai parameter, nanti harus direvisi agar ditentukan di awal fungsi\n",
        "    for i in range(4):\n",
        "        output_subs2 = output_subs2.subs(a,qubit_param[0])\n",
        "        output_subs2 = output_subs2.subs(b,qubit_param[1])\n",
        "        output_subs2 = output_subs2.subs(c,qubit_param[2])\n",
        "        output_subs2 = output_subs2.subs(gamma,GammaValue)\n",
        "\n",
        "\n",
        "    #Bagian ini juga perlu direvisi, lebih baik melakukan partial trace dengan iterasi\n",
        "    #Cari rho_c_tilde\n",
        "    rho_c_tilde = Matrix([[output_subs2[0,0]+output_subs2[1,1],output_subs2[0,2]+output_subs2[1,3]],[output_subs2[2,0]+output_subs2[3,1],output_subs2[2,2]+output_subs2[3,3]]])\n",
        "\n",
        "    \n",
        "\n",
        "    \n",
        "\n",
        "\n",
        "    #Cari eigen value dari output state dan \\tilde{\\rho}_c\n",
        "    Eigen_value = output_subs2.eigenvals()\n",
        "    EigValC = rho_c_tilde.eigenvals()\n",
        "\n",
        "    \n",
        "    \n",
        "    #Buat eigen value ke dalam array\n",
        "    keys = gl.get_keys(Eigen_value)\n",
        "    keys_c = gl.get_keys(EigValC)\n",
        "\n",
        "\n",
        "    \n",
        "\n",
        "    #Hitung von Neumann entropy menggunakan nilai eigen\n",
        "    H_output = gl.vonNeumann(keys)\n",
        "    H_c = gl.vonNeumann(keys_c)\n",
        "\n",
        "    #Hitung Holevo capacity\n",
        "    Holevo_cap = 1 + N(H_c) - N(H_output)\n",
        "\n",
        "    return Holevo_cap\n",
        "\n",
        "\n"
      ]
    },
    {
      "cell_type": "code",
      "execution_count": 3,
      "metadata": {
        "id": "hNdOmkHD01nq"
      },
      "outputs": [],
      "source": [
        "\n",
        "#Definisikan control qubit\n",
        "gamma = sp.Symbol('gamma',real = True)\n",
        "rho_c = Matrix([[gamma,sp.sqrt(gamma*(1-gamma))],[sp.sqrt(gamma*(1-gamma)),1-gamma]])\n",
        "\n",
        "#Definisikan transmitted qubit\n",
        "a = sp.Symbol('a',real = True)\n",
        "b = sp.Symbol('b',real = True)\n",
        "c = sp.Symbol('c',real = True)\n",
        "pauli0 = sp.Matrix([[1,0],[0,1]])\n",
        "pauli1 = sp.Matrix([[0,1],[1,0]])\n",
        "pauli2 = sp.Matrix([[0,-sp.I],[sp.I,0]])\n",
        "pauli3 = sp.Matrix([[1,0],[0,-1]])\n",
        "rho_t = sp.Rational(1/2)*pauli0 + (a/2)*pauli1 + (b/2)*pauli2 + (c/2)*pauli3\n",
        "\n",
        "\n",
        "\n",
        "#Kekuatan noise\n",
        "NoiseStrength = np.arange(0.0,1.01,0.01)\n",
        "#NoiseStrength = np.arange(0.0,1.1,0.1)\n",
        "\n",
        "#Nilai gamma\n",
        "GammaValue = 1/2\n",
        "GammaValue = simplify(GammaValue)\n",
        "\n",
        "#Nilai parameter [a,b,c]\n",
        "qubit_param = [1/np.sqrt(3),1/np.sqrt(3),1/np.sqrt(3)]\n",
        "\n",
        "gate_p = gl.choose_gate('p',1)\n",
        "gate_q = gl.choose_gate('p',3)\n",
        "\n",
        "#Sekarang kita akan mencari hasil untuk tiap strength yang berbeda\n",
        "hasil = np.zeros(len(NoiseStrength),dtype=complex)\n",
        "for i in range(len(NoiseStrength)):\n",
        "    hasil[i] = Holevo(rho_c,rho_t,gate_p,gate_q,NoiseStrength[i],GammaValue,qubit_param)\n",
        "    \n",
        "\n",
        "\n",
        "print(hasil)\n",
        "\n",
        "log_hasil = np.log2(hasil)\n",
        "\n",
        "plt.plot(NoiseStrength,log_hasil)\n",
        "plt.title('Holevo capacity for bitflip and dephasing noise')\n",
        "plt.ylabel('$\\log_2(\\chi$)')\n",
        "plt.xlabel('$q$')"
      ]
    },
    {
      "cell_type": "code",
      "execution_count": null,
      "metadata": {},
      "outputs": [
        {
          "name": "stdout",
          "output_type": "stream",
          "text": [
            "[1.        -1.54706239e-32j 0.95595002+0.00000000e+00j\n",
            " 0.89900448+0.00000000e+00j 0.86276719+0.00000000e+00j\n",
            " 0.84655035+0.00000000e+00j 0.83516872-2.11585030e-34j\n",
            " 0.81644984+0.00000000e+00j 0.80649267+0.00000000e+00j\n",
            " 0.83907041+0.00000000e+00j 0.9236381 +0.00000000e+00j\n",
            " 1.        +0.00000000e+00j]\n"
          ]
        },
        {
          "name": "stderr",
          "output_type": "stream",
          "text": [
            "c:\\Users\\cahya\\anaconda3\\envs\\SymbolicComputation\\lib\\site-packages\\matplotlib\\cbook\\__init__.py:1298: ComplexWarning: Casting complex values to real discards the imaginary part\n",
            "  return np.asarray(x, float)\n"
          ]
        },
        {
          "data": {
            "text/plain": [
              "Text(0.5, 0, '$q$')"
            ]
          },
          "execution_count": 18,
          "metadata": {},
          "output_type": "execute_result"
        },
        {
          "data": {
            "image/png": "[encoded data removed]",
            "text/plain": [
              "<Figure size 432x288 with 1 Axes>"
            ]
          },
          "metadata": {
            "needs_background": "light"
          },
          "output_type": "display_data"
        }
      ],
      "source": [
        "\n",
        "#Definisikan control qubit\n",
        "gamma = sp.Symbol('gamma',real = True)\n",
        "rho_c = Matrix([[gamma,sp.sqrt(gamma*(1-gamma))],[sp.sqrt(gamma*(1-gamma)),1-gamma]])\n",
        "\n",
        "#Definisikan transmitted qubit\n",
        "a = sp.Symbol('a',real = True)\n",
        "b = sp.Symbol('b',real = True)\n",
        "c = sp.Symbol('c',real = True)\n",
        "pauli0 = sp.Matrix([[1,0],[0,1]])\n",
        "pauli1 = sp.Matrix([[0,1],[1,0]])\n",
        "pauli2 = sp.Matrix([[0,-sp.I],[sp.I,0]])\n",
        "pauli3 = sp.Matrix([[1,0],[0,-1]])\n",
        "rho_t = sp.Rational(1/2)*pauli0 + (a/2)*pauli1 + (b/2)*pauli2 + (c/2)*pauli3\n",
        "\n",
        "\n",
        "\n",
        "#Kekuatan noise\n",
        "#NoiseStrength = np.arange(0.0,1.01,0.01)\n",
        "NoiseStrength = np.arange(0.0,1.1,0.1)\n",
        "\n",
        "#Nilai gamma\n",
        "GammaValue = 1/2\n",
        "GammaValue = simplify(GammaValue)\n",
        "\n",
        "#Nilai parameter [a,b,c]\n",
        "qubit_param = [0,1,0]\n",
        "\n",
        "gate_p = gl.choose_gate('p',1)\n",
        "gate_q = gl.choose_gate('p',3)\n",
        "\n",
        "#Sekarang kita akan mencari hasil untuk tiap strength yang berbeda\n",
        "hasil = np.zeros(len(NoiseStrength),dtype=complex)\n",
        "for i in range(len(NoiseStrength)):\n",
        "    hasil[i] = Holevo(rho_c,rho_t,gate_p,gate_q,NoiseStrength[i],GammaValue,qubit_param)\n",
        "    \n",
        "\n",
        "\n",
        "print(hasil)\n",
        "\n",
        "log_hasil = np.log2(hasil)\n",
        "\n",
        "plt.plot(NoiseStrength,log_hasil)\n",
        "plt.title('Holevo capacity for bitflip and dephasing noise')\n",
        "plt.ylabel('$\\log_2(\\chi$)')\n",
        "plt.xlabel('$q$')"
      ]
    },
    {
      "cell_type": "code",
      "execution_count": null,
      "metadata": {},
      "outputs": [
        {
          "name": "stdout",
          "output_type": "stream",
          "text": [
            "[1.        -1.54706239e-32j 0.99971479+0.00000000e+00j\n",
            " 0.99901229+0.00000000e+00j 0.99798895+0.00000000e+00j\n",
            " 0.99670171+0.00000000e+00j 0.99519302+0.00000000e+00j\n",
            " 0.99349724+0.00000000e+00j 0.99164338+0.00000000e+00j\n",
            " 0.98965659+0.00000000e+00j 0.98755906+0.00000000e+00j\n",
            " 0.98537061+0.00000000e+00j 0.98310909+0.00000000e+00j\n",
            " 0.98079066+0.00000000e+00j 0.97843007+0.00000000e+00j\n",
            " 0.9760408 +0.00000000e+00j 0.97363517+0.00000000e+00j\n",
            " 0.97122452+0.00000000e+00j 0.96881926+0.00000000e+00j\n",
            " 0.96642895+0.00000000e+00j 0.96406239+0.00000000e+00j\n",
            " 0.96172766+0.00000000e+00j 0.95943216+0.00000000e+00j\n",
            " 0.95718267+0.00000000e+00j 0.95498541+0.00000000e+00j\n",
            " 0.952846  +0.00000000e+00j 0.9507696 +0.00000000e+00j\n",
            " 0.94876083+0.00000000e+00j 0.94682387+0.00000000e+00j\n",
            " 0.94496245+0.00000000e+00j 0.94317988+0.00000000e+00j\n",
            " 0.94147907+0.00000000e+00j 0.93986254+0.00000000e+00j\n",
            " 0.93833246+0.00000000e+00j 0.93689062+0.00000000e+00j\n",
            " 0.9355385 +0.00000000e+00j 0.93427727+0.00000000e+00j\n",
            " 0.93310775+0.00000000e+00j 0.93203051+0.00000000e+00j\n",
            " 0.93104581+0.00000000e+00j 0.93015364+0.00000000e+00j\n",
            " 0.92935375+0.00000000e+00j 0.92864563+0.00000000e+00j\n",
            " 0.92802852+0.00000000e+00j 0.92750146+0.00000000e+00j\n",
            " 0.92706323+0.00000000e+00j 0.92671245+0.00000000e+00j\n",
            " 0.92644751+0.00000000e+00j 0.92626662+0.00000000e+00j\n",
            " 0.9261678 +0.00000000e+00j 0.92614891+0.00000000e+00j\n",
            " 0.92620766+0.00000000e+00j 0.92634157+0.00000000e+00j\n",
            " 0.92654804+0.00000000e+00j 0.92682434+0.00000000e+00j\n",
            " 0.92716759+0.00000000e+00j 0.92757482+0.00000000e+00j\n",
            " 0.92804293+0.00000000e+00j 0.92856872+0.00000000e+00j\n",
            " 0.92914891+0.00000000e+00j 0.92978013+0.00000000e+00j\n",
            " 0.93045893+0.00000000e+00j 0.93118181+0.00000000e+00j\n",
            " 0.93194521+0.00000000e+00j 0.93274552+0.00000000e+00j\n",
            " 0.93357909+0.00000000e+00j 0.93444225+0.00000000e+00j\n",
            " 0.93533131+0.00000000e+00j 0.93624258+0.00000000e+00j\n",
            " 0.93717235+0.00000000e+00j 0.93811695+0.00000000e+00j\n",
            " 0.93907272+0.00000000e+00j 0.94003603+0.00000000e+00j\n",
            " 0.9410033 +0.00000000e+00j 0.941971  +0.00000000e+00j\n",
            " 0.94293567+0.00000000e+00j 0.94389392+0.00000000e+00j\n",
            " 0.94484247+0.00000000e+00j 0.9457781 +0.00000000e+00j\n",
            " 0.94669774+0.00000000e+00j 0.94759842+0.00000000e+00j\n",
            " 0.94847732+0.00000000e+00j 0.94933175+0.00000000e+00j\n",
            " 0.95015919+0.00000000e+00j 0.95095729+0.00000000e+00j\n",
            " 0.95172388+0.00000000e+00j 0.95245698+0.00000000e+00j\n",
            " 0.95315482+0.00000000e+00j 0.95381585+0.00000000e+00j\n",
            " 0.95443873+0.00000000e+00j 0.95502237+0.00000000e+00j\n",
            " 0.95556592+0.00000000e+00j 0.95606878+0.00000000e+00j\n",
            " 0.95653059+0.00000000e+00j 0.95695129+0.00000000e+00j\n",
            " 0.95733103+0.00000000e+00j 0.95767026+0.00000000e+00j\n",
            " 0.95796969+0.00000000e+00j 0.95823027+0.00000000e+00j\n",
            " 0.95845321+0.00000000e+00j 0.95863995+0.00000000e+00j\n",
            " 0.95879218-8.33295326e-35j]\n"
          ]
        },
        {
          "name": "stderr",
          "output_type": "stream",
          "text": [
            "c:\\Users\\cahya\\anaconda3\\envs\\SymbolicComputation\\lib\\site-packages\\matplotlib\\cbook\\__init__.py:1298: ComplexWarning: Casting complex values to real discards the imaginary part\n",
            "  return np.asarray(x, float)\n"
          ]
        },
        {
          "data": {
            "text/plain": [
              "Text(0.5, 0, '$q$')"
            ]
          },
          "execution_count": 15,
          "metadata": {},
          "output_type": "execute_result"
        },
        {
          "data": {
            "image/png": "[encoded data removed]",
            "text/plain": [
              "<Figure size 432x288 with 1 Axes>"
            ]
          },
          "metadata": {
            "needs_background": "light"
          },
          "output_type": "display_data"
        }
      ],
      "source": [
        "\n",
        "#Definisikan control qubit\n",
        "gamma = sp.Symbol('gamma',real = True)\n",
        "rho_c = Matrix([[gamma,sp.sqrt(gamma*(1-gamma))],[sp.sqrt(gamma*(1-gamma)),1-gamma]])\n",
        "\n",
        "#Definisikan transmitted qubit\n",
        "a = sp.Symbol('a',real = True)\n",
        "b = sp.Symbol('b',real = True)\n",
        "c = sp.Symbol('c',real = True)\n",
        "pauli0 = sp.Matrix([[1,0],[0,1]])\n",
        "pauli1 = sp.Matrix([[0,1],[1,0]])\n",
        "pauli2 = sp.Matrix([[0,-sp.I],[sp.I,0]])\n",
        "pauli3 = sp.Matrix([[1,0],[0,-1]])\n",
        "rho_t = sp.Rational(1/2)*pauli0 + (a/2)*pauli1 + (b/2)*pauli2 + (c/2)*pauli3\n",
        "\n",
        "\n",
        "\n",
        "#Kekuatan noise\n",
        "NoiseStrength = np.arange(0.0,1.01,0.01)\n",
        "#NoiseStrength = np.arange(0.0,1.1,0.1)\n",
        "\n",
        "#Nilai gamma\n",
        "GammaValue = 1/2\n",
        "GammaValue = simplify(GammaValue)\n",
        "\n",
        "#Nilai parameter [a,b,c]\n",
        "qubit_param = [1,0,0]\n",
        "\n",
        "gate_p = gl.choose_gate('p',4)\n",
        "gate_q = gl.choose_gate('p',4)\n",
        "\n",
        "#Sekarang kita akan mencari hasil untuk tiap strength yang berbeda\n",
        "hasil = np.zeros(len(NoiseStrength),dtype=complex)\n",
        "for i in range(len(NoiseStrength)):\n",
        "    hasil[i] = Holevo(rho_c,rho_t,gate_p,gate_q,NoiseStrength[i],GammaValue,qubit_param)\n",
        "    \n",
        "\n",
        "\n",
        "print(hasil)\n",
        "\n",
        "log_hasil = np.log2(hasil)\n",
        "\n",
        "plt.plot(NoiseStrength,log_hasil)\n",
        "plt.title('Holevo capacity for dual depolarizing')\n",
        "plt.ylabel('$\\log_2(\\chi$)')\n",
        "plt.xlabel('$q$')"
      ]
    },
    {
      "cell_type": "code",
      "execution_count": null,
      "metadata": {},
      "outputs": [
        {
          "name": "stdout",
          "output_type": "stream",
          "text": [
            "[1.        -2.47903793e-16j 0.99971479+0.00000000e+00j\n",
            " 0.99901229+0.00000000e+00j 0.99798895+0.00000000e+00j\n",
            " 0.99670171+0.00000000e+00j 0.99519302+0.00000000e+00j\n",
            " 0.99349724+0.00000000e+00j 0.99164338+0.00000000e+00j\n",
            " 0.98965659+0.00000000e+00j 0.98755906+0.00000000e+00j\n",
            " 0.98537061+0.00000000e+00j 0.98310909+0.00000000e+00j\n",
            " 0.98079066+0.00000000e+00j 0.97843007+0.00000000e+00j\n",
            " 0.9760408 +0.00000000e+00j 0.97363517+0.00000000e+00j\n",
            " 0.97122452+0.00000000e+00j 0.96881926+0.00000000e+00j\n",
            " 0.96642895+0.00000000e+00j 0.96406239+0.00000000e+00j\n",
            " 0.96172766+0.00000000e+00j 0.95943216+0.00000000e+00j\n",
            " 0.95718267+0.00000000e+00j 0.95498541+0.00000000e+00j\n",
            " 0.952846  +0.00000000e+00j 0.9507696 +0.00000000e+00j\n",
            " 0.94876083+0.00000000e+00j 0.94682387+0.00000000e+00j\n",
            " 0.94496245+0.00000000e+00j 0.94317988+0.00000000e+00j\n",
            " 0.94147907+0.00000000e+00j 0.93986254+0.00000000e+00j\n",
            " 0.93833246+0.00000000e+00j 0.93689062+0.00000000e+00j\n",
            " 0.9355385 +0.00000000e+00j 0.93427727+0.00000000e+00j\n",
            " 0.93310775+0.00000000e+00j 0.93203051+0.00000000e+00j\n",
            " 0.93104581+0.00000000e+00j 0.93015364+0.00000000e+00j\n",
            " 0.92935375+0.00000000e+00j 0.92864563+0.00000000e+00j\n",
            " 0.92802852+0.00000000e+00j 0.92750146+0.00000000e+00j\n",
            " 0.92706323+0.00000000e+00j 0.92671245+0.00000000e+00j\n",
            " 0.92644751+0.00000000e+00j 0.92626662+0.00000000e+00j\n",
            " 0.9261678 +0.00000000e+00j 0.92614891+0.00000000e+00j\n",
            " 0.92620766+0.00000000e+00j 0.92634157+0.00000000e+00j\n",
            " 0.92654804+0.00000000e+00j 0.92682434+0.00000000e+00j\n",
            " 0.92716759+0.00000000e+00j 0.92757482+0.00000000e+00j\n",
            " 0.92804293+0.00000000e+00j 0.92856872+0.00000000e+00j\n",
            " 0.92914891+0.00000000e+00j 0.92978013+0.00000000e+00j\n",
            " 0.93045893+0.00000000e+00j 0.93118181+0.00000000e+00j\n",
            " 0.93194521+0.00000000e+00j 0.93274552+0.00000000e+00j\n",
            " 0.93357909+0.00000000e+00j 0.93444225+0.00000000e+00j\n",
            " 0.93533131+0.00000000e+00j 0.93624258+0.00000000e+00j\n",
            " 0.93717235+0.00000000e+00j 0.93811695+0.00000000e+00j\n",
            " 0.93907272+0.00000000e+00j 0.94003603+0.00000000e+00j\n",
            " 0.9410033 +0.00000000e+00j 0.941971  +0.00000000e+00j\n",
            " 0.94293567+0.00000000e+00j 0.94389392+0.00000000e+00j\n",
            " 0.94484247+0.00000000e+00j 0.9457781 +0.00000000e+00j\n",
            " 0.94669774+0.00000000e+00j 0.94759842+0.00000000e+00j\n",
            " 0.94847732+0.00000000e+00j 0.94933175+0.00000000e+00j\n",
            " 0.95015919+0.00000000e+00j 0.95095729+0.00000000e+00j\n",
            " 0.95172388+0.00000000e+00j 0.95245698+0.00000000e+00j\n",
            " 0.95315482+0.00000000e+00j 0.95381585+0.00000000e+00j\n",
            " 0.95443873+0.00000000e+00j 0.95502237+0.00000000e+00j\n",
            " 0.95556592+0.00000000e+00j 0.95606878+0.00000000e+00j\n",
            " 0.95653059+0.00000000e+00j 0.95695129+0.00000000e+00j\n",
            " 0.95733103+0.00000000e+00j 0.95767026+0.00000000e+00j\n",
            " 0.95796969+0.00000000e+00j 0.95823027+0.00000000e+00j\n",
            " 0.95845321+0.00000000e+00j 0.95863995+0.00000000e+00j\n",
            " 0.95879218-1.01736560e-33j]\n"
          ]
        },
        {
          "name": "stderr",
          "output_type": "stream",
          "text": [
            "c:\\Users\\cahya\\anaconda3\\envs\\SymbolicComputation\\lib\\site-packages\\matplotlib\\cbook\\__init__.py:1298: ComplexWarning: Casting complex values to real discards the imaginary part\n",
            "  return np.asarray(x, float)\n"
          ]
        },
        {
          "data": {
            "text/plain": [
              "Text(0.5, 0, '$q$')"
            ]
          },
          "execution_count": 16,
          "metadata": {},
          "output_type": "execute_result"
        },
        {
          "data": {
            "image/png": "[encoded data removed]",
            "text/plain": [
              "<Figure size 432x288 with 1 Axes>"
            ]
          },
          "metadata": {
            "needs_background": "light"
          },
          "output_type": "display_data"
        }
      ],
      "source": [
        "\n",
        "#Definisikan control qubit\n",
        "gamma = sp.Symbol('gamma',real = True)\n",
        "rho_c = Matrix([[gamma,sp.sqrt(gamma*(1-gamma))],[sp.sqrt(gamma*(1-gamma)),1-gamma]])\n",
        "\n",
        "#Definisikan transmitted qubit\n",
        "a = sp.Symbol('a',real = True)\n",
        "b = sp.Symbol('b',real = True)\n",
        "c = sp.Symbol('c',real = True)\n",
        "pauli0 = sp.Matrix([[1,0],[0,1]])\n",
        "pauli1 = sp.Matrix([[0,1],[1,0]])\n",
        "pauli2 = sp.Matrix([[0,-sp.I],[sp.I,0]])\n",
        "pauli3 = sp.Matrix([[1,0],[0,-1]])\n",
        "rho_t = sp.Rational(1/2)*pauli0 + (a/2)*pauli1 + (b/2)*pauli2 + (c/2)*pauli3\n",
        "\n",
        "\n",
        "\n",
        "#Kekuatan noise\n",
        "NoiseStrength = np.arange(0.0,1.01,0.01)\n",
        "#NoiseStrength = np.arange(0.0,1.1,0.1)\n",
        "\n",
        "#Nilai gamma\n",
        "GammaValue = 1/2\n",
        "GammaValue = simplify(GammaValue)\n",
        "\n",
        "#Nilai parameter [a,b,c]\n",
        "qubit_param = [1/np.sqrt(3),1/np.sqrt(3),1/np.sqrt(3)]\n",
        "\n",
        "gate_p = gl.choose_gate('p',4)\n",
        "gate_q = gl.choose_gate('p',4)\n",
        "\n",
        "#Sekarang kita akan mencari hasil untuk tiap strength yang berbeda\n",
        "hasil = np.zeros(len(NoiseStrength),dtype=complex)\n",
        "for i in range(len(NoiseStrength)):\n",
        "    hasil[i] = Holevo(rho_c,rho_t,gate_p,gate_q,NoiseStrength[i],GammaValue,qubit_param)\n",
        "    \n",
        "\n",
        "\n",
        "print(hasil)\n",
        "\n",
        "log_hasil = np.log2(hasil)\n",
        "\n",
        "plt.plot(NoiseStrength,log_hasil)\n",
        "plt.title('Holevo capacity for dual depolarizing')\n",
        "plt.ylabel('$\\log_2(\\chi$)')\n",
        "plt.xlabel('$q$')"
      ]
    },
    {
      "cell_type": "code",
      "execution_count": null,
      "metadata": {},
      "outputs": [
        {
          "name": "stdout",
          "output_type": "stream",
          "text": [
            "[1.        -6.58887371e-83j 0.99971479+0.00000000e+00j\n",
            " 0.99901229+0.00000000e+00j 0.99798895+0.00000000e+00j\n",
            " 0.99670171+0.00000000e+00j 0.99519302+0.00000000e+00j\n",
            " 0.99349724+0.00000000e+00j 0.99164338+0.00000000e+00j\n",
            " 0.98965659+0.00000000e+00j 0.98755906+0.00000000e+00j\n",
            " 0.98537061+0.00000000e+00j 0.98310909+0.00000000e+00j\n",
            " 0.98079066+0.00000000e+00j 0.97843007+0.00000000e+00j\n",
            " 0.9760408 +0.00000000e+00j 0.97363517+0.00000000e+00j\n",
            " 0.97122452+0.00000000e+00j 0.96881926+0.00000000e+00j\n",
            " 0.96642895+0.00000000e+00j 0.96406239+0.00000000e+00j\n",
            " 0.96172766+0.00000000e+00j 0.95943216+0.00000000e+00j\n",
            " 0.95718267+0.00000000e+00j 0.95498541+0.00000000e+00j\n",
            " 0.952846  +0.00000000e+00j 0.9507696 +0.00000000e+00j\n",
            " 0.94876083+0.00000000e+00j 0.94682387+0.00000000e+00j\n",
            " 0.94496245+0.00000000e+00j 0.94317988+0.00000000e+00j\n",
            " 0.94147907+0.00000000e+00j 0.93986254+0.00000000e+00j\n",
            " 0.93833246+0.00000000e+00j 0.93689062+0.00000000e+00j\n",
            " 0.9355385 +0.00000000e+00j 0.93427727+0.00000000e+00j\n",
            " 0.93310775+0.00000000e+00j 0.93203051+0.00000000e+00j\n",
            " 0.93104581+0.00000000e+00j 0.93015364+0.00000000e+00j\n",
            " 0.92935375+0.00000000e+00j 0.92864563+0.00000000e+00j\n",
            " 0.92802852+0.00000000e+00j 0.92750146+0.00000000e+00j\n",
            " 0.92706323+0.00000000e+00j 0.92671245+0.00000000e+00j\n",
            " 0.92644751+0.00000000e+00j 0.92626662+0.00000000e+00j\n",
            " 0.9261678 +0.00000000e+00j 0.92614891+0.00000000e+00j\n",
            " 0.92620766+0.00000000e+00j 0.92634157+0.00000000e+00j\n",
            " 0.92654804+0.00000000e+00j 0.92682434+0.00000000e+00j\n",
            " 0.92716759+0.00000000e+00j 0.92757482+0.00000000e+00j\n",
            " 0.92804293+0.00000000e+00j 0.92856872+0.00000000e+00j\n",
            " 0.92914891+0.00000000e+00j 0.92978013+0.00000000e+00j\n",
            " 0.93045893+0.00000000e+00j 0.93118181+0.00000000e+00j\n",
            " 0.93194521+0.00000000e+00j 0.93274552+0.00000000e+00j\n",
            " 0.93357909+0.00000000e+00j 0.93444225+0.00000000e+00j\n",
            " 0.93533131+0.00000000e+00j 0.93624258+0.00000000e+00j\n",
            " 0.93717235+0.00000000e+00j 0.93811695+0.00000000e+00j\n",
            " 0.93907272+0.00000000e+00j 0.94003603+0.00000000e+00j\n",
            " 0.9410033 +0.00000000e+00j 0.941971  +0.00000000e+00j\n",
            " 0.94293567+0.00000000e+00j 0.94389392+0.00000000e+00j\n",
            " 0.94484247+0.00000000e+00j 0.9457781 +0.00000000e+00j\n",
            " 0.94669774+0.00000000e+00j 0.94759842+0.00000000e+00j\n",
            " 0.94847732+0.00000000e+00j 0.94933175+0.00000000e+00j\n",
            " 0.95015919+0.00000000e+00j 0.95095729+0.00000000e+00j\n",
            " 0.95172388+0.00000000e+00j 0.95245698+0.00000000e+00j\n",
            " 0.95315482+0.00000000e+00j 0.95381585+0.00000000e+00j\n",
            " 0.95443873+0.00000000e+00j 0.95502237+0.00000000e+00j\n",
            " 0.95556592+0.00000000e+00j 0.95606878+0.00000000e+00j\n",
            " 0.95653059+0.00000000e+00j 0.95695129+0.00000000e+00j\n",
            " 0.95733103+0.00000000e+00j 0.95767026+0.00000000e+00j\n",
            " 0.95796969+0.00000000e+00j 0.95823027+0.00000000e+00j\n",
            " 0.95845321+0.00000000e+00j 0.95863995+0.00000000e+00j\n",
            " 0.95879218-2.11956979e-35j]\n"
          ]
        },
        {
          "name": "stderr",
          "output_type": "stream",
          "text": [
            "c:\\Users\\cahya\\anaconda3\\envs\\SymbolicComputation\\lib\\site-packages\\matplotlib\\cbook\\__init__.py:1298: ComplexWarning: Casting complex values to real discards the imaginary part\n",
            "  return np.asarray(x, float)\n"
          ]
        },
        {
          "data": {
            "text/plain": [
              "Text(0.5, 0, '$q$')"
            ]
          },
          "execution_count": 20,
          "metadata": {},
          "output_type": "execute_result"
        },
        {
          "data": {
            "image/png": "[encoded data removed]",
            "text/plain": [
              "<Figure size 432x288 with 1 Axes>"
            ]
          },
          "metadata": {
            "needs_background": "light"
          },
          "output_type": "display_data"
        }
      ],
      "source": [
        "\n",
        "#Definisikan control qubit\n",
        "gamma = sp.Symbol('gamma',real = True)\n",
        "rho_c = Matrix([[gamma,sp.sqrt(gamma*(1-gamma))],[sp.sqrt(gamma*(1-gamma)),1-gamma]])\n",
        "\n",
        "#Definisikan transmitted qubit\n",
        "a = sp.Symbol('a',real = True)\n",
        "b = sp.Symbol('b',real = True)\n",
        "c = sp.Symbol('c',real = True)\n",
        "pauli0 = sp.Matrix([[1,0],[0,1]])\n",
        "pauli1 = sp.Matrix([[0,1],[1,0]])\n",
        "pauli2 = sp.Matrix([[0,-sp.I],[sp.I,0]])\n",
        "pauli3 = sp.Matrix([[1,0],[0,-1]])\n",
        "rho_t = sp.Rational(1/2)*pauli0 + (a/2)*pauli1 + (b/2)*pauli2 + (c/2)*pauli3\n",
        "\n",
        "\n",
        "\n",
        "#Kekuatan noise\n",
        "NoiseStrength = np.arange(0.0,1.01,0.01)\n",
        "#NoiseStrength = np.arange(0.0,1.1,0.1)\n",
        "\n",
        "#Nilai gamma\n",
        "GammaValue = 1/2\n",
        "GammaValue = simplify(GammaValue)\n",
        "\n",
        "#Nilai parameter [a,b,c]\n",
        "qubit_param = [1/np.sqrt(2),1/np.sqrt(2),0]\n",
        "\n",
        "gate_p = gl.choose_gate('p',4)\n",
        "gate_q = gl.choose_gate('p',4)\n",
        "\n",
        "#Sekarang kita akan mencari hasil untuk tiap strength yang berbeda\n",
        "hasil = np.zeros(len(NoiseStrength),dtype=complex)\n",
        "for i in range(len(NoiseStrength)):\n",
        "    hasil[i] = Holevo(rho_c,rho_t,gate_p,gate_q,NoiseStrength[i],GammaValue,qubit_param)\n",
        "    \n",
        "\n",
        "\n",
        "print(hasil)\n",
        "\n",
        "log_hasil = np.log2(hasil)\n",
        "\n",
        "plt.plot(NoiseStrength,log_hasil)\n",
        "plt.title('Holevo capacity for dual depolarizing')\n",
        "plt.ylabel('$\\log_2(\\chi$)')\n",
        "plt.xlabel('$q$')"
      ]
    },
    {
      "cell_type": "code",
      "execution_count": null,
      "metadata": {},
      "outputs": [
        {
          "name": "stdout",
          "output_type": "stream",
          "text": [
            "[1.        -2.47903793e-16j 0.99939189+0.00000000e+00j\n",
            " 0.99791344+0.00000000e+00j 0.9957829 +0.00000000e+00j\n",
            " 0.99312905+0.00000000e+00j 0.99004773+0.00000000e+00j\n",
            " 0.98661624+0.00000000e+00j 0.98289964+0.00000000e+00j\n",
            " 0.97895403+0.00000000e+00j 0.97482865+0.00000000e+00j\n",
            " 0.9705672 +0.00000000e+00j 0.96620876+0.00000000e+00j\n",
            " 0.96178847+0.00000000e+00j 0.95733806+0.00000000e+00j\n",
            " 0.95288624+0.00000000e+00j 0.948459  +0.00000000e+00j\n",
            " 0.94407988+0.00000000e+00j 0.9397702 +0.00000000e+00j\n",
            " 0.93554921+0.00000000e+00j 0.93143425+0.00000000e+00j\n",
            " 0.92744089+0.00000000e+00j 0.92358302+0.00000000e+00j\n",
            " 0.91987297+0.00000000e+00j 0.91632159+0.00000000e+00j\n",
            " 0.91293831+0.00000000e+00j 0.90973125+0.00000000e+00j\n",
            " 0.90670721+0.00000000e+00j 0.90387182+0.00000000e+00j\n",
            " 0.90122949+0.00000000e+00j 0.89878356+0.00000000e+00j\n",
            " 0.89653625+0.00000000e+00j 0.89448875+0.00000000e+00j\n",
            " 0.89264125+0.00000000e+00j 0.89099299+0.00000000e+00j\n",
            " 0.88954224+0.00000000e+00j 0.88828639+0.00000000e+00j\n",
            " 0.88722197+0.00000000e+00j 0.88634462+0.00000000e+00j\n",
            " 0.88564921+0.00000000e+00j 0.8851298 +0.00000000e+00j\n",
            " 0.88477969+0.00000000e+00j 0.88459146+0.00000000e+00j\n",
            " 0.88455697+0.00000000e+00j 0.88466741+0.00000000e+00j\n",
            " 0.88491333+0.00000000e+00j 0.88528465+0.00000000e+00j\n",
            " 0.88577072+0.00000000e+00j 0.88636034+0.00000000e+00j\n",
            " 0.8870418 +0.00000000e+00j 0.88780292+0.00000000e+00j\n",
            " 0.88863109+4.71300211e-33j 0.88951333+0.00000000e+00j\n",
            " 0.89043634+0.00000000e+00j 0.89138655+0.00000000e+00j\n",
            " 0.89235022+0.00000000e+00j 0.89331345+0.00000000e+00j\n",
            " 0.89426231+0.00000000e+00j 0.89518295+0.00000000e+00j\n",
            " 0.89606162+0.00000000e+00j 0.89688484+0.00000000e+00j\n",
            " 0.8976395 +0.00000000e+00j 0.89831296+0.00000000e+00j\n",
            " 0.89889321+0.00000000e+00j 0.89936895+0.00000000e+00j\n",
            " 0.89972978+0.00000000e+00j 0.89996627+0.00000000e+00j\n",
            " 0.90007013+0.00000000e+00j 0.90003426+0.00000000e+00j\n",
            " 0.89985291+0.00000000e+00j 0.8995217 +0.00000000e+00j\n",
            " 0.89903767+0.00000000e+00j 0.89839934+0.00000000e+00j\n",
            " 0.89760666+0.00000000e+00j 0.89666098+0.00000000e+00j\n",
            " 0.89556497+0.00000000e+00j 0.89432255+0.00000000e+00j\n",
            " 0.89293876+0.00000000e+00j 0.89141957+0.00000000e+00j\n",
            " 0.8897718 +0.00000000e+00j 0.8880029 +0.00000000e+00j\n",
            " 0.88612082+0.00000000e+00j 0.88413379+0.00000000e+00j\n",
            " 0.8820502 +0.00000000e+00j 0.87987844+0.00000000e+00j\n",
            " 0.87762672+0.00000000e+00j 0.87530298+0.00000000e+00j\n",
            " 0.87291471+0.00000000e+00j 0.8704689 +0.00000000e+00j\n",
            " 0.86797189+0.00000000e+00j 0.86542932+0.00000000e+00j\n",
            " 0.86284603+0.00000000e+00j 0.86022601+0.00000000e+00j\n",
            " 0.85757232+0.00000000e+00j 0.85488709+0.00000000e+00j\n",
            " 0.85217142+0.00000000e+00j 0.84942541+0.00000000e+00j\n",
            " 0.84664808+0.00000000e+00j 0.8438374 +0.00000000e+00j\n",
            " 0.84099027+0.00000000e+00j 0.83810246+0.00000000e+00j\n",
            " 0.83516872-2.18091119e-33j]\n"
          ]
        },
        {
          "name": "stderr",
          "output_type": "stream",
          "text": [
            "c:\\Users\\cahya\\anaconda3\\envs\\SymbolicComputation\\lib\\site-packages\\matplotlib\\cbook\\__init__.py:1298: ComplexWarning: Casting complex values to real discards the imaginary part\n",
            "  return np.asarray(x, float)\n"
          ]
        },
        {
          "data": {
            "text/plain": [
              "Text(0.5, 0, '$q$')"
            ]
          },
          "execution_count": 21,
          "metadata": {},
          "output_type": "execute_result"
        },
        {
          "data": {
            "image/png": "[encoded data removed]",
            "text/plain": [
              "<Figure size 432x288 with 1 Axes>"
            ]
          },
          "metadata": {
            "needs_background": "light"
          },
          "output_type": "display_data"
        }
      ],
      "source": [
        "\n",
        "#Definisikan control qubit\n",
        "gamma = sp.Symbol('gamma',real = True)\n",
        "rho_c = Matrix([[gamma,sp.sqrt(gamma*(1-gamma))],[sp.sqrt(gamma*(1-gamma)),1-gamma]])\n",
        "\n",
        "#Definisikan transmitted qubit\n",
        "a = sp.Symbol('a',real = True)\n",
        "b = sp.Symbol('b',real = True)\n",
        "c = sp.Symbol('c',real = True)\n",
        "pauli0 = sp.Matrix([[1,0],[0,1]])\n",
        "pauli1 = sp.Matrix([[0,1],[1,0]])\n",
        "pauli2 = sp.Matrix([[0,-sp.I],[sp.I,0]])\n",
        "pauli3 = sp.Matrix([[1,0],[0,-1]])\n",
        "rho_t = sp.Rational(1/2)*pauli0 + (a/2)*pauli1 + (b/2)*pauli2 + (c/2)*pauli3\n",
        "\n",
        "\n",
        "\n",
        "#Kekuatan noise\n",
        "NoiseStrength = np.arange(0.0,1.01,0.01)\n",
        "#NoiseStrength = np.arange(0.0,1.1,0.1)\n",
        "\n",
        "#Nilai gamma\n",
        "GammaValue = 1/2\n",
        "GammaValue = simplify(GammaValue)\n",
        "\n",
        "#Nilai parameter [a,b,c]\n",
        "qubit_param = [1/np.sqrt(3),1/np.sqrt(3),1/np.sqrt(3)]\n",
        "\n",
        "gate_p = gl.choose_gate('p',3)\n",
        "gate_q = gl.choose_gate('p',4)\n",
        "\n",
        "#Sekarang kita akan mencari hasil untuk tiap strength yang berbeda\n",
        "hasil = np.zeros(len(NoiseStrength),dtype=complex)\n",
        "for i in range(len(NoiseStrength)):\n",
        "    hasil[i] = Holevo(rho_c,rho_t,gate_p,gate_q,NoiseStrength[i],GammaValue,qubit_param)\n",
        "    \n",
        "\n",
        "\n",
        "print(hasil)\n",
        "\n",
        "log_hasil = np.log2(hasil)\n",
        "\n",
        "plt.plot(NoiseStrength,log_hasil)\n",
        "plt.title('Holevo capacity for dephasing and depolarizing')\n",
        "plt.ylabel('$\\log_2(\\chi$)')\n",
        "plt.xlabel('$q$')"
      ]
    },
    {
      "cell_type": "code",
      "execution_count": null,
      "metadata": {},
      "outputs": [],
      "source": []
    }
  ],
  "metadata": {
    "colab": {
      "name": "Perhitungan_Goswami.ipynb",
      "provenance": []
    },
    "interpreter": {
      "hash": "16bf6e0454b5a599c4825afe74915a275ff921f6a5edca4ba1b77555c1545010"
    },
    "kernelspec": {
      "display_name": "Python 3.8.12 ('SymbolicComputation')",
      "language": "python",
      "name": "python3"
    },
    "language_info": {
      "codemirror_mode": {
        "name": "ipython",
        "version": 3
      },
      "file_extension": ".py",
      "mimetype": "text/x-python",
      "name": "python",
      "nbconvert_exporter": "python",
      "pygments_lexer": "ipython3",
      "version": "3.8.12"
    },
    "orig_nbformat": 4
  },
  "nbformat": 4,
  "nbformat_minor": 0
}
