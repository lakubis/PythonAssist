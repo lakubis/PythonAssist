{
 "cells": [
  {
   "cell_type": "code",
   "execution_count": 55,
   "metadata": {},
   "outputs": [],
   "source": [
    "from sympy import Matrix, sqrt, Symbol, cos, sin, exp_polar, I\n",
    "from sympy.physics.quantum import Dagger\n",
    "import GateLibrary2 as gl\n",
    "#from GateLibrary2 import amplitude_damping"
   ]
  },
  {
   "cell_type": "code",
   "execution_count": 56,
   "metadata": {},
   "outputs": [],
   "source": [
    "#eta = Symbol('eta',real = True, positive= True)\n",
    "#p = Symbol('p', real = True)\n",
    "theta = Symbol('theta', real = True, positive = True)\n",
    "phi = Symbol('phi', real = True, positive = True)"
   ]
  },
  {
   "cell_type": "code",
   "execution_count": 57,
   "metadata": {},
   "outputs": [],
   "source": [
    "psi = Matrix([[cos(theta/2)],[sin(theta/2)*exp_polar(I*phi)]])\n",
    "psi_dag = Dagger(psi)"
   ]
  },
  {
   "cell_type": "code",
   "execution_count": 58,
   "metadata": {},
   "outputs": [],
   "source": [
    "t_1 = Symbol('t_1', positive = True)\n",
    "t_2 = Symbol('t_2', positive = True)\n",
    "#var = Symbol('p', real = True, positive = True)\n",
    "#eta = Symbol('eta', real = True, positive = True)\n",
    "var = t_1/(1+t_1)\n",
    "eta = t_2/(1+t_2)\n",
    "\n",
    "gate = {}\n",
    "gate['name'] = 'amplitude_damping'\n",
    "gate['matrices'] = [sqrt(var)*Matrix([[1,0],[0,sqrt(1-eta)]]),sqrt(var) * Matrix([[0,sqrt(eta)],[0,0]]),sqrt((1-var))* Matrix([[sqrt(1-eta),0],[0,1]]),sqrt(1-var)*Matrix([[0,0],[sqrt(eta),0]])]"
   ]
  },
  {
   "cell_type": "code",
   "execution_count": 59,
   "metadata": {},
   "outputs": [],
   "source": [
    "gate = gate"
   ]
  },
  {
   "cell_type": "code",
   "execution_count": 60,
   "metadata": {},
   "outputs": [
    {
     "data": {
      "text/latex": [
       "$\\displaystyle \\left[\\begin{matrix}\\cos{\\left(\\frac{\\theta}{2} \\right)}\\\\e^{i \\phi} \\sin{\\left(\\frac{\\theta}{2} \\right)}\\end{matrix}\\right]$"
      ],
      "text/plain": [
       "Matrix([\n",
       "[                 cos(theta/2)],\n",
       "[exp_polar(I*phi)*sin(theta/2)]])"
      ]
     },
     "execution_count": 60,
     "metadata": {},
     "output_type": "execute_result"
    }
   ],
   "source": [
    "psi"
   ]
  },
  {
   "cell_type": "code",
   "execution_count": 61,
   "metadata": {},
   "outputs": [
    {
     "data": {
      "text/latex": [
       "$\\displaystyle \\left[\\begin{matrix}\\cos{\\left(\\frac{\\theta}{2} \\right)} & e^{- i \\phi} \\sin{\\left(\\frac{\\theta}{2} \\right)}\\end{matrix}\\right]$"
      ],
      "text/plain": [
       "Matrix([[cos(theta/2), exp_polar(-I*phi)*sin(theta/2)]])"
      ]
     },
     "execution_count": 61,
     "metadata": {},
     "output_type": "execute_result"
    }
   ],
   "source": [
    "psi_dag"
   ]
  },
  {
   "cell_type": "code",
   "execution_count": 62,
   "metadata": {},
   "outputs": [
    {
     "data": {
      "text/latex": [
       "$\\displaystyle \\left[\\begin{matrix}\\cos^{2}{\\left(\\frac{\\theta}{2} \\right)} & e^{- i \\phi} \\sin{\\left(\\frac{\\theta}{2} \\right)} \\cos{\\left(\\frac{\\theta}{2} \\right)}\\\\e^{i \\phi} \\sin{\\left(\\frac{\\theta}{2} \\right)} \\cos{\\left(\\frac{\\theta}{2} \\right)} & \\sin^{2}{\\left(\\frac{\\theta}{2} \\right)}\\end{matrix}\\right]$"
      ],
      "text/plain": [
       "Matrix([\n",
       "[                           cos(theta/2)**2, exp_polar(-I*phi)*sin(theta/2)*cos(theta/2)],\n",
       "[exp_polar(I*phi)*sin(theta/2)*cos(theta/2),                             sin(theta/2)**2]])"
      ]
     },
     "execution_count": 62,
     "metadata": {},
     "output_type": "execute_result"
    }
   ],
   "source": [
    "rho = psi*psi_dag\n",
    "rho"
   ]
  },
  {
   "cell_type": "code",
   "execution_count": 63,
   "metadata": {},
   "outputs": [],
   "source": [
    "# We'll do the real calculation now\n",
    "trans_rho = Matrix([[0,0],[0,0]])\n",
    "\n",
    "for mat in gate['matrices']:\n",
    "    trans_rho = trans_rho + mat*rho*Dagger(mat)\n"
   ]
  },
  {
   "cell_type": "code",
   "execution_count": 64,
   "metadata": {},
   "outputs": [
    {
     "data": {
      "text/latex": [
       "$\\displaystyle \\left[\\begin{matrix}\\frac{t_{1} t_{2} \\sin^{2}{\\left(\\frac{\\theta}{2} \\right)}}{\\left(t_{1} + 1\\right) \\left(t_{2} + 1\\right)} + \\frac{t_{1} \\cos^{2}{\\left(\\frac{\\theta}{2} \\right)}}{t_{1} + 1} + \\left(- \\frac{t_{1}}{t_{1} + 1} + 1\\right) \\left(- \\frac{t_{2}}{t_{2} + 1} + 1\\right) \\cos^{2}{\\left(\\frac{\\theta}{2} \\right)} & \\frac{t_{1} \\sqrt{- \\frac{t_{2}}{t_{2} + 1} + 1} e^{- i \\phi} \\sin{\\left(\\frac{\\theta}{2} \\right)} \\cos{\\left(\\frac{\\theta}{2} \\right)}}{t_{1} + 1} + \\left(- \\frac{t_{1}}{t_{1} + 1} + 1\\right) \\sqrt{- \\frac{t_{2}}{t_{2} + 1} + 1} e^{- i \\phi} \\sin{\\left(\\frac{\\theta}{2} \\right)} \\cos{\\left(\\frac{\\theta}{2} \\right)}\\\\\\frac{t_{1} \\sqrt{- \\frac{t_{2}}{t_{2} + 1} + 1} e^{i \\phi} \\sin{\\left(\\frac{\\theta}{2} \\right)} \\cos{\\left(\\frac{\\theta}{2} \\right)}}{t_{1} + 1} + \\left(- \\frac{t_{1}}{t_{1} + 1} + 1\\right) \\sqrt{- \\frac{t_{2}}{t_{2} + 1} + 1} e^{i \\phi} \\sin{\\left(\\frac{\\theta}{2} \\right)} \\cos{\\left(\\frac{\\theta}{2} \\right)} & \\frac{t_{1} \\left(- \\frac{t_{2}}{t_{2} + 1} + 1\\right) \\sin^{2}{\\left(\\frac{\\theta}{2} \\right)}}{t_{1} + 1} + \\frac{t_{2} \\left(- \\frac{t_{1}}{t_{1} + 1} + 1\\right) \\cos^{2}{\\left(\\frac{\\theta}{2} \\right)}}{t_{2} + 1} + \\left(- \\frac{t_{1}}{t_{1} + 1} + 1\\right) \\sin^{2}{\\left(\\frac{\\theta}{2} \\right)}\\end{matrix}\\right]$"
      ],
      "text/plain": [
       "Matrix([\n",
       "[                                   t_1*t_2*sin(theta/2)**2/((t_1 + 1)*(t_2 + 1)) + t_1*cos(theta/2)**2/(t_1 + 1) + (-t_1/(t_1 + 1) + 1)*(-t_2/(t_2 + 1) + 1)*cos(theta/2)**2, t_1*sqrt(-t_2/(t_2 + 1) + 1)*exp_polar(-I*phi)*sin(theta/2)*cos(theta/2)/(t_1 + 1) + (-t_1/(t_1 + 1) + 1)*sqrt(-t_2/(t_2 + 1) + 1)*exp_polar(-I*phi)*sin(theta/2)*cos(theta/2)],\n",
       "[t_1*sqrt(-t_2/(t_2 + 1) + 1)*exp_polar(I*phi)*sin(theta/2)*cos(theta/2)/(t_1 + 1) + (-t_1/(t_1 + 1) + 1)*sqrt(-t_2/(t_2 + 1) + 1)*exp_polar(I*phi)*sin(theta/2)*cos(theta/2),                                 t_1*(-t_2/(t_2 + 1) + 1)*sin(theta/2)**2/(t_1 + 1) + t_2*(-t_1/(t_1 + 1) + 1)*cos(theta/2)**2/(t_2 + 1) + (-t_1/(t_1 + 1) + 1)*sin(theta/2)**2]])"
      ]
     },
     "execution_count": 64,
     "metadata": {},
     "output_type": "execute_result"
    }
   ],
   "source": [
    "trans_rho"
   ]
  },
  {
   "cell_type": "code",
   "execution_count": 65,
   "metadata": {},
   "outputs": [
    {
     "data": {
      "text/latex": [
       "$\\displaystyle \\left[\\begin{matrix}\\eta p \\sin^{2}{\\left(\\frac{\\theta}{2} \\right)} + p \\cos^{2}{\\left(\\frac{\\theta}{2} \\right)} + \\left(1 - \\eta\\right) \\left(1 - p\\right) \\cos^{2}{\\left(\\frac{\\theta}{2} \\right)} & p \\sqrt{1 - \\eta} e^{- i \\phi} \\sin{\\left(\\frac{\\theta}{2} \\right)} \\cos{\\left(\\frac{\\theta}{2} \\right)} + \\sqrt{1 - \\eta} \\left(1 - p\\right) e^{- i \\phi} \\sin{\\left(\\frac{\\theta}{2} \\right)} \\cos{\\left(\\frac{\\theta}{2} \\right)}\\\\p \\sqrt{1 - \\eta} e^{i \\phi} \\sin{\\left(\\frac{\\theta}{2} \\right)} \\cos{\\left(\\frac{\\theta}{2} \\right)} + \\sqrt{1 - \\eta} \\left(1 - p\\right) e^{i \\phi} \\sin{\\left(\\frac{\\theta}{2} \\right)} \\cos{\\left(\\frac{\\theta}{2} \\right)} & \\eta \\left(1 - p\\right) \\cos^{2}{\\left(\\frac{\\theta}{2} \\right)} + p \\left(1 - \\eta\\right) \\sin^{2}{\\left(\\frac{\\theta}{2} \\right)} + \\left(1 - p\\right) \\sin^{2}{\\left(\\frac{\\theta}{2} \\right)}\\end{matrix}\\right]$"
      ],
      "text/plain": [
       "Matrix([\n",
       "[                                                eta*p*sin(theta/2)**2 + p*cos(theta/2)**2 + (1 - eta)*(1 - p)*cos(theta/2)**2, p*sqrt(1 - eta)*exp_polar(-I*phi)*sin(theta/2)*cos(theta/2) + sqrt(1 - eta)*(1 - p)*exp_polar(-I*phi)*sin(theta/2)*cos(theta/2)],\n",
       "[p*sqrt(1 - eta)*exp_polar(I*phi)*sin(theta/2)*cos(theta/2) + sqrt(1 - eta)*(1 - p)*exp_polar(I*phi)*sin(theta/2)*cos(theta/2),                                             eta*(1 - p)*cos(theta/2)**2 + p*(1 - eta)*sin(theta/2)**2 + (1 - p)*sin(theta/2)**2]])"
      ]
     },
     "execution_count": 65,
     "metadata": {},
     "output_type": "execute_result"
    }
   ],
   "source": [
    "var = Symbol('p', real = True, positive = True)\n",
    "eta = Symbol('eta', real = True, positive = True)\n",
    "trans_rho_2 = trans_rho.subs(t_1/(t_1+1), var)\n",
    "trans_rho_3 = trans_rho_2.subs(t_2/(t_2+1), eta)\n",
    "trans_rho_3"
   ]
  },
  {
   "cell_type": "code",
   "execution_count": 66,
   "metadata": {},
   "outputs": [],
   "source": [
    "pauli0 = Matrix([[1,0],[0,1]])\n",
    "pauli1 = Matrix([[0,1],[1,0]])\n",
    "pauli2 = Matrix([[0,-I],[I,0]])\n",
    "pauli3 = Matrix([[1,0],[0,-1]])\n",
    "a_x = Symbol('a_x', real = True, positive = True)\n",
    "a_y = Symbol('a_y', real = True, positive = True)\n",
    "a_z = Symbol('a_z', real = True, positive = True)"
   ]
  },
  {
   "cell_type": "code",
   "execution_count": 67,
   "metadata": {},
   "outputs": [
    {
     "data": {
      "text/latex": [
       "$\\displaystyle \\left[\\begin{matrix}a_{z} + 1 & a_{x} - i a_{y}\\\\a_{x} + i a_{y} & 1 - a_{z}\\end{matrix}\\right]$"
      ],
      "text/plain": [
       "Matrix([\n",
       "[    a_z + 1, a_x - I*a_y],\n",
       "[a_x + I*a_y,     1 - a_z]])"
      ]
     },
     "execution_count": 67,
     "metadata": {},
     "output_type": "execute_result"
    }
   ],
   "source": [
    "alt_rho = pauli0 + a_x*pauli1 + a_y*pauli2 + a_z*pauli3\n",
    "alt_rho"
   ]
  },
  {
   "cell_type": "code",
   "execution_count": null,
   "metadata": {},
   "outputs": [],
   "source": []
  }
 ],
 "metadata": {
  "kernelspec": {
   "display_name": "Python 3.8.12 ('SymbolicComputation')",
   "language": "python",
   "name": "python3"
  },
  "language_info": {
   "codemirror_mode": {
    "name": "ipython",
    "version": 3
   },
   "file_extension": ".py",
   "mimetype": "text/x-python",
   "name": "python",
   "nbconvert_exporter": "python",
   "pygments_lexer": "ipython3",
   "version": "3.8.12"
  },
  "orig_nbformat": 4,
  "vscode": {
   "interpreter": {
    "hash": "16bf6e0454b5a599c4825afe74915a275ff921f6a5edca4ba1b77555c1545010"
   }
  }
 },
 "nbformat": 4,
 "nbformat_minor": 2
}
