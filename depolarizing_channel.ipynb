{
 "cells": [
  {
   "cell_type": "code",
   "execution_count": 1,
   "metadata": {},
   "outputs": [
    {
     "data": {
      "text/latex": [
       "$\\displaystyle \\left[\\begin{matrix}0.5 & 0\\\\0 & 0.5\\end{matrix}\\right]$"
      ],
      "text/plain": [
       "Matrix([\n",
       "[0.5,   0],\n",
       "[  0, 0.5]])"
      ]
     },
     "execution_count": 1,
     "metadata": {},
     "output_type": "execute_result"
    }
   ],
   "source": [
    "from sympy import *\n",
    "from sympy.physics.quantum import TensorProduct\n",
    "gamma = Symbol(\"gamma\",real = True)\n",
    "a = Symbol(\"a\", real = True)\n",
    "b = Symbol(\"b\", real = True)\n",
    "c = Symbol(\"c\", real = True)\n",
    "\n",
    "sigma_x = Matrix([[0,1],[1,0]])\n",
    "sigma_y = Matrix([[0,-I],[I,0]])\n",
    "sigma_z = Matrix([[1,0],[0,-1]])\n",
    "identity = Matrix([[1,0],[0,1]])\n",
    "\n",
    "rho = 1/2*(identity + a*sigma_x + b*sigma_y + c*sigma_z)\n",
    "\n",
    "hasil = 1/4*(rho + sigma_x*rho*sigma_x + sigma_y*rho*sigma_y + sigma_z*rho*sigma_z)\n",
    "\n",
    "hasil"
   ]
  },
  {
   "cell_type": "code",
   "execution_count": null,
   "metadata": {},
   "outputs": [],
   "source": []
  }
 ],
 "metadata": {
  "interpreter": {
   "hash": "20d1518e06ea5a9fbce7efffb252c7b02bf5cb50f74010879eb36e13705bfb1f"
  },
  "kernelspec": {
   "display_name": "Python 3.8.12 ('SymbolicComputation')",
   "language": "python",
   "name": "python3"
  },
  "language_info": {
   "codemirror_mode": {
    "name": "ipython",
    "version": 3
   },
   "file_extension": ".py",
   "mimetype": "text/x-python",
   "name": "python",
   "nbconvert_exporter": "python",
   "pygments_lexer": "ipython3",
   "version": "3.8.12"
  },
  "orig_nbformat": 4
 },
 "nbformat": 4,
 "nbformat_minor": 2
}
