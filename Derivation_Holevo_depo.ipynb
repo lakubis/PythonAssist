{
 "cells": [
  {
   "cell_type": "markdown",
   "metadata": {},
   "source": [
    "Here we will do some calculations to derive Holevo capacity for two depolarizing channels"
   ]
  },
  {
   "cell_type": "code",
   "execution_count": 43,
   "metadata": {},
   "outputs": [],
   "source": [
    "from sympy import Symbol, IndexedBase, Idx, MatrixSymbol, symbols, FunctionMatrix, Lambda, sqrt, conjugate, simplify, Matrix, latex\n",
    "from sympy.physics.quantum import Dagger, TensorProduct, Ket, Bra, qapply, tensor_product_simp"
   ]
  },
  {
   "cell_type": "code",
   "execution_count": 39,
   "metadata": {},
   "outputs": [],
   "source": [
    "# We'll try to calculate stuff\n",
    "t = Symbol('t', real = True, positive = True)\n",
    "gamma = t/(t+1)\n",
    "gamma_var = Symbol('gamma', real = True, positive = True)\n",
    "\n",
    "rho_00 = Symbol('rho_00')\n",
    "rho_01 = Symbol('rho_01')\n",
    "rho_10 = Symbol('rho_10')\n",
    "rho_11 = Symbol('rho_11')\n",
    "\n",
    "rho = Matrix([[rho_00,rho_01],[rho_10,rho_11]])\n",
    "AD_1 = Matrix([[1,0],[0,sqrt(1-gamma)]])\n",
    "AD_2 = Matrix([[0,sqrt(gamma)],[0,0]])"
   ]
  },
  {
   "cell_type": "code",
   "execution_count": 40,
   "metadata": {},
   "outputs": [
    {
     "data": {
      "text/latex": [
       "$\\displaystyle \\left[\\begin{matrix}0 & \\frac{\\sqrt{t}}{\\sqrt{t + 1}}\\\\0 & 0\\end{matrix}\\right]$"
      ],
      "text/plain": [
       "Matrix([\n",
       "[0, sqrt(t)/sqrt(t + 1)],\n",
       "[0,                   0]])"
      ]
     },
     "execution_count": 40,
     "metadata": {},
     "output_type": "execute_result"
    }
   ],
   "source": [
    "AD_2"
   ]
  },
  {
   "cell_type": "code",
   "execution_count": 44,
   "metadata": {},
   "outputs": [
    {
     "name": "stdout",
     "output_type": "stream",
     "text": [
      "\\left[\\begin{matrix}\\gamma \\rho_{11} + \\rho_{00} & \\rho_{01} \\sqrt{1 - \\gamma}\\\\\\rho_{10} \\sqrt{1 - \\gamma} & \\rho_{11} \\left(1 - \\gamma\\right)\\end{matrix}\\right]\n"
     ]
    }
   ],
   "source": [
    "rho_AD = AD_1 * rho * Dagger(AD_1) + AD_2 * rho * Dagger(AD_2)\n",
    "rho_AD = rho_AD.subs(t, gamma_var/(1-gamma_var))\n",
    "rho_AD.simplify()\n",
    "print(latex(rho_AD))"
   ]
  },
  {
   "cell_type": "code",
   "execution_count": null,
   "metadata": {},
   "outputs": [],
   "source": []
  }
 ],
 "metadata": {
  "kernelspec": {
   "display_name": "Python 3.8.12 ('SymbolicComputation')",
   "language": "python",
   "name": "python3"
  },
  "language_info": {
   "codemirror_mode": {
    "name": "ipython",
    "version": 3
   },
   "file_extension": ".py",
   "mimetype": "text/x-python",
   "name": "python",
   "nbconvert_exporter": "python",
   "pygments_lexer": "ipython3",
   "version": "3.8.12"
  },
  "orig_nbformat": 4,
  "vscode": {
   "interpreter": {
    "hash": "16bf6e0454b5a599c4825afe74915a275ff921f6a5edca4ba1b77555c1545010"
   }
  }
 },
 "nbformat": 4,
 "nbformat_minor": 2
}
